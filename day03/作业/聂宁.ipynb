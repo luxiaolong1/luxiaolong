{
 "cells": [
  {
   "cell_type": "markdown",
   "metadata": {},
   "source": [
    "假设ddd是期中考试成绩，ddd2是期末考试成绩，请自由创建ddd2，并将其与ddd相加，求期中期末平均值。\n",
    "\n",
    "假设张三期中考试数学被发现作弊，要记为0分，如何实现？\n",
    "\n",
    "李四因为举报张三作弊立功，期中考试所有科目加100分，如何实现？\n",
    "\n",
    "后来老师发现有一道题出错了，为了安抚学生情绪，给每位学生每个科目都加10分，如何实现？\n",
    "\n",
    "假设张三李四参加模拟考试，但张三因为突然想明白人生放弃了英语考试，因此记为None，请据此创建一个DataFrame,命名为ddd3\n",
    "\n",
    "老师决定根据用数学的分数填充张三的英语成绩，如何实现？ 用李四的英语成绩填充张三的英语成绩？"
   ]
  },
  {
   "cell_type": "code",
   "execution_count": 1,
   "metadata": {},
   "outputs": [],
   "source": [
    "import numpy as np\n",
    "import pandas as pd\n",
    "import matplotlib.pyplot as plt\n",
    "%matplotlib inline\n",
    "from pandas import Series, DataFrame"
   ]
  },
  {
   "cell_type": "code",
   "execution_count": 2,
   "metadata": {},
   "outputs": [
    {
     "data": {
      "text/html": [
       "<div>\n",
       "<style scoped>\n",
       "    .dataframe tbody tr th:only-of-type {\n",
       "        vertical-align: middle;\n",
       "    }\n",
       "\n",
       "    .dataframe tbody tr th {\n",
       "        vertical-align: top;\n",
       "    }\n",
       "\n",
       "    .dataframe thead th {\n",
       "        text-align: right;\n",
       "    }\n",
       "</style>\n",
       "<table border=\"1\" class=\"dataframe\">\n",
       "  <thead>\n",
       "    <tr style=\"text-align: right;\">\n",
       "      <th></th>\n",
       "      <th>语文</th>\n",
       "      <th>数学</th>\n",
       "      <th>英语</th>\n",
       "      <th>python</th>\n",
       "    </tr>\n",
       "  </thead>\n",
       "  <tbody>\n",
       "    <tr>\n",
       "      <th>张三</th>\n",
       "      <td>35</td>\n",
       "      <td>119</td>\n",
       "      <td>22</td>\n",
       "      <td>68</td>\n",
       "    </tr>\n",
       "    <tr>\n",
       "      <th>李四</th>\n",
       "      <td>106</td>\n",
       "      <td>89</td>\n",
       "      <td>131</td>\n",
       "      <td>47</td>\n",
       "    </tr>\n",
       "  </tbody>\n",
       "</table>\n",
       "</div>"
      ],
      "text/plain": [
       "     语文   数学   英语  python\n",
       "张三   35  119   22      68\n",
       "李四  106   89  131      47"
      ]
     },
     "execution_count": 2,
     "metadata": {},
     "output_type": "execute_result"
    }
   ],
   "source": [
    "data = np.random.randint(0,150, size=(2,4))\n",
    "index = ['张三', '李四']\n",
    "columns = ['语文', '数学', '英语', 'python']\n",
    "ddd = DataFrame(data=data, index=index, columns=columns)\n",
    "ddd"
   ]
  },
  {
   "cell_type": "code",
   "execution_count": 3,
   "metadata": {},
   "outputs": [
    {
     "data": {
      "text/html": [
       "<div>\n",
       "<style scoped>\n",
       "    .dataframe tbody tr th:only-of-type {\n",
       "        vertical-align: middle;\n",
       "    }\n",
       "\n",
       "    .dataframe tbody tr th {\n",
       "        vertical-align: top;\n",
       "    }\n",
       "\n",
       "    .dataframe thead th {\n",
       "        text-align: right;\n",
       "    }\n",
       "</style>\n",
       "<table border=\"1\" class=\"dataframe\">\n",
       "  <thead>\n",
       "    <tr style=\"text-align: right;\">\n",
       "      <th></th>\n",
       "      <th>语文</th>\n",
       "      <th>数学</th>\n",
       "      <th>英语</th>\n",
       "      <th>python</th>\n",
       "    </tr>\n",
       "  </thead>\n",
       "  <tbody>\n",
       "    <tr>\n",
       "      <th>张三</th>\n",
       "      <td>111</td>\n",
       "      <td>42</td>\n",
       "      <td>110</td>\n",
       "      <td>45</td>\n",
       "    </tr>\n",
       "    <tr>\n",
       "      <th>李四</th>\n",
       "      <td>26</td>\n",
       "      <td>92</td>\n",
       "      <td>78</td>\n",
       "      <td>131</td>\n",
       "    </tr>\n",
       "  </tbody>\n",
       "</table>\n",
       "</div>"
      ],
      "text/plain": [
       "     语文  数学   英语  python\n",
       "张三  111  42  110      45\n",
       "李四   26  92   78     131"
      ]
     },
     "execution_count": 3,
     "metadata": {},
     "output_type": "execute_result"
    }
   ],
   "source": [
    "data = np.random.randint(0,150, size=(2,4))\n",
    "index = ['张三', '李四']\n",
    "columns = ['语文', '数学', '英语', 'python']\n",
    "ddd2 = DataFrame(data=data, index=index, columns=columns)\n",
    "ddd2"
   ]
  },
  {
   "cell_type": "code",
   "execution_count": 4,
   "metadata": {},
   "outputs": [
    {
     "data": {
      "text/html": [
       "<div>\n",
       "<style scoped>\n",
       "    .dataframe tbody tr th:only-of-type {\n",
       "        vertical-align: middle;\n",
       "    }\n",
       "\n",
       "    .dataframe tbody tr th {\n",
       "        vertical-align: top;\n",
       "    }\n",
       "\n",
       "    .dataframe thead th {\n",
       "        text-align: right;\n",
       "    }\n",
       "</style>\n",
       "<table border=\"1\" class=\"dataframe\">\n",
       "  <thead>\n",
       "    <tr style=\"text-align: right;\">\n",
       "      <th></th>\n",
       "      <th>语文</th>\n",
       "      <th>数学</th>\n",
       "      <th>英语</th>\n",
       "      <th>python</th>\n",
       "    </tr>\n",
       "  </thead>\n",
       "  <tbody>\n",
       "    <tr>\n",
       "      <th>张三</th>\n",
       "      <td>73.0</td>\n",
       "      <td>80.5</td>\n",
       "      <td>66.0</td>\n",
       "      <td>56.5</td>\n",
       "    </tr>\n",
       "    <tr>\n",
       "      <th>李四</th>\n",
       "      <td>66.0</td>\n",
       "      <td>90.5</td>\n",
       "      <td>104.5</td>\n",
       "      <td>89.0</td>\n",
       "    </tr>\n",
       "  </tbody>\n",
       "</table>\n",
       "</div>"
      ],
      "text/plain": [
       "      语文    数学     英语  python\n",
       "张三  73.0  80.5   66.0    56.5\n",
       "李四  66.0  90.5  104.5    89.0"
      ]
     },
     "execution_count": 4,
     "metadata": {},
     "output_type": "execute_result"
    }
   ],
   "source": [
    "(ddd + ddd2) / 2"
   ]
  },
  {
   "cell_type": "code",
   "execution_count": 5,
   "metadata": {},
   "outputs": [
    {
     "data": {
      "text/html": [
       "<div>\n",
       "<style scoped>\n",
       "    .dataframe tbody tr th:only-of-type {\n",
       "        vertical-align: middle;\n",
       "    }\n",
       "\n",
       "    .dataframe tbody tr th {\n",
       "        vertical-align: top;\n",
       "    }\n",
       "\n",
       "    .dataframe thead th {\n",
       "        text-align: right;\n",
       "    }\n",
       "</style>\n",
       "<table border=\"1\" class=\"dataframe\">\n",
       "  <thead>\n",
       "    <tr style=\"text-align: right;\">\n",
       "      <th></th>\n",
       "      <th>语文</th>\n",
       "      <th>数学</th>\n",
       "      <th>英语</th>\n",
       "      <th>python</th>\n",
       "    </tr>\n",
       "  </thead>\n",
       "  <tbody>\n",
       "    <tr>\n",
       "      <th>张三</th>\n",
       "      <td>35</td>\n",
       "      <td>0</td>\n",
       "      <td>22</td>\n",
       "      <td>68</td>\n",
       "    </tr>\n",
       "    <tr>\n",
       "      <th>李四</th>\n",
       "      <td>106</td>\n",
       "      <td>89</td>\n",
       "      <td>131</td>\n",
       "      <td>47</td>\n",
       "    </tr>\n",
       "  </tbody>\n",
       "</table>\n",
       "</div>"
      ],
      "text/plain": [
       "     语文  数学   英语  python\n",
       "张三   35   0   22      68\n",
       "李四  106  89  131      47"
      ]
     },
     "execution_count": 5,
     "metadata": {},
     "output_type": "execute_result"
    }
   ],
   "source": [
    "ddd.loc['张三', '数学'] = 0\n",
    "ddd"
   ]
  },
  {
   "cell_type": "code",
   "execution_count": 6,
   "metadata": {},
   "outputs": [
    {
     "data": {
      "text/html": [
       "<div>\n",
       "<style scoped>\n",
       "    .dataframe tbody tr th:only-of-type {\n",
       "        vertical-align: middle;\n",
       "    }\n",
       "\n",
       "    .dataframe tbody tr th {\n",
       "        vertical-align: top;\n",
       "    }\n",
       "\n",
       "    .dataframe thead th {\n",
       "        text-align: right;\n",
       "    }\n",
       "</style>\n",
       "<table border=\"1\" class=\"dataframe\">\n",
       "  <thead>\n",
       "    <tr style=\"text-align: right;\">\n",
       "      <th></th>\n",
       "      <th>语文</th>\n",
       "      <th>数学</th>\n",
       "      <th>英语</th>\n",
       "      <th>python</th>\n",
       "    </tr>\n",
       "  </thead>\n",
       "  <tbody>\n",
       "    <tr>\n",
       "      <th>张三</th>\n",
       "      <td>35</td>\n",
       "      <td>0</td>\n",
       "      <td>22</td>\n",
       "      <td>68</td>\n",
       "    </tr>\n",
       "    <tr>\n",
       "      <th>李四</th>\n",
       "      <td>206</td>\n",
       "      <td>189</td>\n",
       "      <td>231</td>\n",
       "      <td>147</td>\n",
       "    </tr>\n",
       "  </tbody>\n",
       "</table>\n",
       "</div>"
      ],
      "text/plain": [
       "     语文   数学   英语  python\n",
       "张三   35    0   22      68\n",
       "李四  206  189  231     147"
      ]
     },
     "execution_count": 6,
     "metadata": {},
     "output_type": "execute_result"
    }
   ],
   "source": [
    "ddd.loc['李四'] += 100\n",
    "ddd"
   ]
  },
  {
   "cell_type": "code",
   "execution_count": 7,
   "metadata": {},
   "outputs": [
    {
     "data": {
      "text/html": [
       "<div>\n",
       "<style scoped>\n",
       "    .dataframe tbody tr th:only-of-type {\n",
       "        vertical-align: middle;\n",
       "    }\n",
       "\n",
       "    .dataframe tbody tr th {\n",
       "        vertical-align: top;\n",
       "    }\n",
       "\n",
       "    .dataframe thead th {\n",
       "        text-align: right;\n",
       "    }\n",
       "</style>\n",
       "<table border=\"1\" class=\"dataframe\">\n",
       "  <thead>\n",
       "    <tr style=\"text-align: right;\">\n",
       "      <th></th>\n",
       "      <th>语文</th>\n",
       "      <th>数学</th>\n",
       "      <th>英语</th>\n",
       "      <th>python</th>\n",
       "    </tr>\n",
       "  </thead>\n",
       "  <tbody>\n",
       "    <tr>\n",
       "      <th>张三</th>\n",
       "      <td>45</td>\n",
       "      <td>10</td>\n",
       "      <td>32</td>\n",
       "      <td>78</td>\n",
       "    </tr>\n",
       "    <tr>\n",
       "      <th>李四</th>\n",
       "      <td>216</td>\n",
       "      <td>199</td>\n",
       "      <td>241</td>\n",
       "      <td>157</td>\n",
       "    </tr>\n",
       "  </tbody>\n",
       "</table>\n",
       "</div>"
      ],
      "text/plain": [
       "     语文   数学   英语  python\n",
       "张三   45   10   32      78\n",
       "李四  216  199  241     157"
      ]
     },
     "execution_count": 7,
     "metadata": {},
     "output_type": "execute_result"
    }
   ],
   "source": [
    "ddd + 10"
   ]
  },
  {
   "cell_type": "code",
   "execution_count": 8,
   "metadata": {},
   "outputs": [
    {
     "data": {
      "text/html": [
       "<div>\n",
       "<style scoped>\n",
       "    .dataframe tbody tr th:only-of-type {\n",
       "        vertical-align: middle;\n",
       "    }\n",
       "\n",
       "    .dataframe tbody tr th {\n",
       "        vertical-align: top;\n",
       "    }\n",
       "\n",
       "    .dataframe thead th {\n",
       "        text-align: right;\n",
       "    }\n",
       "</style>\n",
       "<table border=\"1\" class=\"dataframe\">\n",
       "  <thead>\n",
       "    <tr style=\"text-align: right;\">\n",
       "      <th></th>\n",
       "      <th>语文</th>\n",
       "      <th>数学</th>\n",
       "      <th>英语</th>\n",
       "      <th>python</th>\n",
       "    </tr>\n",
       "  </thead>\n",
       "  <tbody>\n",
       "    <tr>\n",
       "      <th>张三</th>\n",
       "      <td>35</td>\n",
       "      <td>0</td>\n",
       "      <td>NaN</td>\n",
       "      <td>68</td>\n",
       "    </tr>\n",
       "    <tr>\n",
       "      <th>李四</th>\n",
       "      <td>206</td>\n",
       "      <td>189</td>\n",
       "      <td>231.0</td>\n",
       "      <td>147</td>\n",
       "    </tr>\n",
       "  </tbody>\n",
       "</table>\n",
       "</div>"
      ],
      "text/plain": [
       "     语文   数学     英语  python\n",
       "张三   35    0    NaN      68\n",
       "李四  206  189  231.0     147"
      ]
     },
     "execution_count": 8,
     "metadata": {},
     "output_type": "execute_result"
    }
   ],
   "source": [
    "ddd.loc['张三', '英语'] = None\n",
    "ddd"
   ]
  },
  {
   "cell_type": "code",
   "execution_count": 9,
   "metadata": {},
   "outputs": [
    {
     "data": {
      "text/html": [
       "<div>\n",
       "<style scoped>\n",
       "    .dataframe tbody tr th:only-of-type {\n",
       "        vertical-align: middle;\n",
       "    }\n",
       "\n",
       "    .dataframe tbody tr th {\n",
       "        vertical-align: top;\n",
       "    }\n",
       "\n",
       "    .dataframe thead th {\n",
       "        text-align: right;\n",
       "    }\n",
       "</style>\n",
       "<table border=\"1\" class=\"dataframe\">\n",
       "  <thead>\n",
       "    <tr style=\"text-align: right;\">\n",
       "      <th></th>\n",
       "      <th>语文</th>\n",
       "      <th>数学</th>\n",
       "      <th>英语</th>\n",
       "      <th>python</th>\n",
       "    </tr>\n",
       "  </thead>\n",
       "  <tbody>\n",
       "    <tr>\n",
       "      <th>张三</th>\n",
       "      <td>35.0</td>\n",
       "      <td>0.0</td>\n",
       "      <td>0.0</td>\n",
       "      <td>68.0</td>\n",
       "    </tr>\n",
       "    <tr>\n",
       "      <th>李四</th>\n",
       "      <td>206.0</td>\n",
       "      <td>189.0</td>\n",
       "      <td>231.0</td>\n",
       "      <td>147.0</td>\n",
       "    </tr>\n",
       "  </tbody>\n",
       "</table>\n",
       "</div>"
      ],
      "text/plain": [
       "       语文     数学     英语  python\n",
       "张三   35.0    0.0    0.0    68.0\n",
       "李四  206.0  189.0  231.0   147.0"
      ]
     },
     "execution_count": 9,
     "metadata": {},
     "output_type": "execute_result"
    }
   ],
   "source": [
    "ddd.fillna(method='ffill', axis=1)"
   ]
  },
  {
   "cell_type": "code",
   "execution_count": 10,
   "metadata": {},
   "outputs": [
    {
     "data": {
      "text/html": [
       "<div>\n",
       "<style scoped>\n",
       "    .dataframe tbody tr th:only-of-type {\n",
       "        vertical-align: middle;\n",
       "    }\n",
       "\n",
       "    .dataframe tbody tr th {\n",
       "        vertical-align: top;\n",
       "    }\n",
       "\n",
       "    .dataframe thead th {\n",
       "        text-align: right;\n",
       "    }\n",
       "</style>\n",
       "<table border=\"1\" class=\"dataframe\">\n",
       "  <thead>\n",
       "    <tr style=\"text-align: right;\">\n",
       "      <th></th>\n",
       "      <th>语文</th>\n",
       "      <th>数学</th>\n",
       "      <th>英语</th>\n",
       "      <th>python</th>\n",
       "    </tr>\n",
       "  </thead>\n",
       "  <tbody>\n",
       "    <tr>\n",
       "      <th>张三</th>\n",
       "      <td>35</td>\n",
       "      <td>0</td>\n",
       "      <td>231.0</td>\n",
       "      <td>68</td>\n",
       "    </tr>\n",
       "    <tr>\n",
       "      <th>李四</th>\n",
       "      <td>206</td>\n",
       "      <td>189</td>\n",
       "      <td>231.0</td>\n",
       "      <td>147</td>\n",
       "    </tr>\n",
       "  </tbody>\n",
       "</table>\n",
       "</div>"
      ],
      "text/plain": [
       "     语文   数学     英语  python\n",
       "张三   35    0  231.0      68\n",
       "李四  206  189  231.0     147"
      ]
     },
     "execution_count": 10,
     "metadata": {},
     "output_type": "execute_result"
    }
   ],
   "source": [
    "ddd.fillna(method='bfill', axis=0)"
   ]
  },
  {
   "cell_type": "markdown",
   "metadata": {},
   "source": [
    "## 菜市场张大妈和李大爷的故事"
   ]
  },
  {
   "cell_type": "code",
   "execution_count": 11,
   "metadata": {},
   "outputs": [
    {
     "data": {
      "text/html": [
       "<div>\n",
       "<style scoped>\n",
       "    .dataframe tbody tr th:only-of-type {\n",
       "        vertical-align: middle;\n",
       "    }\n",
       "\n",
       "    .dataframe tbody tr th {\n",
       "        vertical-align: top;\n",
       "    }\n",
       "\n",
       "    .dataframe thead th {\n",
       "        text-align: right;\n",
       "    }\n",
       "</style>\n",
       "<table border=\"1\" class=\"dataframe\">\n",
       "  <thead>\n",
       "    <tr style=\"text-align: right;\">\n",
       "      <th></th>\n",
       "      <th>血量</th>\n",
       "      <th>愤怒值</th>\n",
       "      <th>技能</th>\n",
       "    </tr>\n",
       "  </thead>\n",
       "  <tbody>\n",
       "    <tr>\n",
       "      <th>张大妈</th>\n",
       "      <td>100</td>\n",
       "      <td>0</td>\n",
       "      <td>NaN</td>\n",
       "    </tr>\n",
       "    <tr>\n",
       "      <th>李大爷</th>\n",
       "      <td>100</td>\n",
       "      <td>0</td>\n",
       "      <td>NaN</td>\n",
       "    </tr>\n",
       "  </tbody>\n",
       "</table>\n",
       "</div>"
      ],
      "text/plain": [
       "      血量 愤怒值   技能\n",
       "张大妈  100   0  NaN\n",
       "李大爷  100   0  NaN"
      ]
     },
     "execution_count": 11,
     "metadata": {},
     "output_type": "execute_result"
    }
   ],
   "source": [
    "data = np.array([[100,0,'NaN'], [100,0,'NaN']])\n",
    "ddd = DataFrame(data=data, index=['张大妈', '李大爷'], columns=['血量', '愤怒值', '技能'])\n",
    "ddd"
   ]
  },
  {
   "cell_type": "markdown",
   "metadata": {},
   "source": [
    "  你是我心中最美的云彩,让我用心把你留下来...李大爷关掉音乐,准备起身去买菜.\n",
    "路上,李大爷想起昨天公园地盘被张大妈占了许多,自己的老年disco舞队屁点地方都没有,心里忍不住xxx.突然李大爷眼睛一亮, 咦,这不是张老婆娘?看我今天怎么找回场子."
   ]
  },
  {
   "cell_type": "code",
   "execution_count": 12,
   "metadata": {},
   "outputs": [
    {
     "data": {
      "text/html": [
       "<div>\n",
       "<style scoped>\n",
       "    .dataframe tbody tr th:only-of-type {\n",
       "        vertical-align: middle;\n",
       "    }\n",
       "\n",
       "    .dataframe tbody tr th {\n",
       "        vertical-align: top;\n",
       "    }\n",
       "\n",
       "    .dataframe thead th {\n",
       "        text-align: right;\n",
       "    }\n",
       "</style>\n",
       "<table border=\"1\" class=\"dataframe\">\n",
       "  <thead>\n",
       "    <tr style=\"text-align: right;\">\n",
       "      <th></th>\n",
       "      <th>血量</th>\n",
       "      <th>愤怒值</th>\n",
       "      <th>技能</th>\n",
       "    </tr>\n",
       "  </thead>\n",
       "  <tbody>\n",
       "    <tr>\n",
       "      <th>张大妈</th>\n",
       "      <td>95</td>\n",
       "      <td>10</td>\n",
       "      <td>NaN</td>\n",
       "    </tr>\n",
       "    <tr>\n",
       "      <th>李大爷</th>\n",
       "      <td>100</td>\n",
       "      <td>0</td>\n",
       "      <td>炫富嘲讽-- 这是你这辈子得不到的钱!! 此招为真实伤害,伤害为5, 让人愤怒值加10</td>\n",
       "    </tr>\n",
       "  </tbody>\n",
       "</table>\n",
       "</div>"
      ],
      "text/plain": [
       "      血量 愤怒值                                            技能\n",
       "张大妈   95  10                                           NaN\n",
       "李大爷  100   0  炫富嘲讽-- 这是你这辈子得不到的钱!! 此招为真实伤害,伤害为5, 让人愤怒值加10 "
      ]
     },
     "execution_count": 12,
     "metadata": {},
     "output_type": "execute_result"
    }
   ],
   "source": [
    "# 李大爷发起技能 炫富嘲讽\n",
    "ddd.iloc[1, 2] = '炫富嘲讽-- 这是你这辈子得不到的钱!! 此招为真实伤害,伤害为5, 让人愤怒值加10 '\n",
    "ddd.iloc[0, 0] = 95\n",
    "ddd.iloc[0, 1] = 10\n",
    "ddd"
   ]
  },
  {
   "cell_type": "markdown",
   "metadata": {},
   "source": [
    "哟,这不是张老虎吗?怎么一个几毛钱都要和人家老板讨价这么久,来来来,老板,这菜我给她买了.\n",
    "张大妈,回头一看, 这不是李瘪三,前几天还调戏老娘舞团里面的姐妹,被我抢了地盘,屁都不敢放一个,今天还来嘲讽我,真当老娘吃素的."
   ]
  },
  {
   "cell_type": "code",
   "execution_count": 13,
   "metadata": {},
   "outputs": [
    {
     "data": {
      "text/html": [
       "<div>\n",
       "<style scoped>\n",
       "    .dataframe tbody tr th:only-of-type {\n",
       "        vertical-align: middle;\n",
       "    }\n",
       "\n",
       "    .dataframe tbody tr th {\n",
       "        vertical-align: top;\n",
       "    }\n",
       "\n",
       "    .dataframe thead th {\n",
       "        text-align: right;\n",
       "    }\n",
       "</style>\n",
       "<table border=\"1\" class=\"dataframe\">\n",
       "  <thead>\n",
       "    <tr style=\"text-align: right;\">\n",
       "      <th></th>\n",
       "      <th>血量</th>\n",
       "      <th>愤怒值</th>\n",
       "      <th>技能</th>\n",
       "    </tr>\n",
       "  </thead>\n",
       "  <tbody>\n",
       "    <tr>\n",
       "      <th>张大妈</th>\n",
       "      <td>95</td>\n",
       "      <td>10</td>\n",
       "      <td>无情铁嘴-- 作为妇女联盟盟主,一口无情的嘴是她征战江湖的利器, 真实伤害10, 让人愤怒值加15</td>\n",
       "    </tr>\n",
       "    <tr>\n",
       "      <th>李大爷</th>\n",
       "      <td>90</td>\n",
       "      <td>15</td>\n",
       "      <td>炫富嘲讽-- 这是你这辈子得不到的钱!! 此招为真实伤害,伤害为5, 让人愤怒值加10</td>\n",
       "    </tr>\n",
       "  </tbody>\n",
       "</table>\n",
       "</div>"
      ],
      "text/plain": [
       "     血量 愤怒值                                                 技能\n",
       "张大妈  95  10  无情铁嘴-- 作为妇女联盟盟主,一口无情的嘴是她征战江湖的利器, 真实伤害10, 让人愤怒值加15\n",
       "李大爷  90  15       炫富嘲讽-- 这是你这辈子得不到的钱!! 此招为真实伤害,伤害为5, 让人愤怒值加10 "
      ]
     },
     "execution_count": 13,
     "metadata": {},
     "output_type": "execute_result"
    }
   ],
   "source": [
    "# 张大妈发动技能 无情铁嘴\n",
    "ddd.iloc[0, 2] = '无情铁嘴-- 作为妇女联盟盟主,一口无情的嘴是她征战江湖的利器, 真实伤害10, 让人愤怒值加15'\n",
    "ddd.iloc[1, 0] = 90\n",
    "ddd.iloc[1, 1] = 15\n",
    "ddd"
   ]
  },
  {
   "cell_type": "markdown",
   "metadata": {},
   "source": [
    "哦,原来是李瘪三啊,怎么昨天被我占了地盘,屁都不放一个,今天就到这里阴阳怪气的来说话,一股臊子味.老板,这菜我不要了.这股臊子,我呆都呆不下去.臭死了,臭死了"
   ]
  },
  {
   "cell_type": "code",
   "execution_count": 14,
   "metadata": {},
   "outputs": [
    {
     "data": {
      "text/html": [
       "<div>\n",
       "<style scoped>\n",
       "    .dataframe tbody tr th:only-of-type {\n",
       "        vertical-align: middle;\n",
       "    }\n",
       "\n",
       "    .dataframe tbody tr th {\n",
       "        vertical-align: top;\n",
       "    }\n",
       "\n",
       "    .dataframe thead th {\n",
       "        text-align: right;\n",
       "    }\n",
       "</style>\n",
       "<table border=\"1\" class=\"dataframe\">\n",
       "  <thead>\n",
       "    <tr style=\"text-align: right;\">\n",
       "      <th></th>\n",
       "      <th>血量</th>\n",
       "      <th>愤怒值</th>\n",
       "      <th>技能</th>\n",
       "    </tr>\n",
       "  </thead>\n",
       "  <tbody>\n",
       "    <tr>\n",
       "      <th>张大妈</th>\n",
       "      <td>80</td>\n",
       "      <td>30</td>\n",
       "      <td>无情铁嘴-- 作为妇女联盟盟主,一口无情的嘴是她征战江湖的利器, 真实伤害10, 让人愤怒值加15</td>\n",
       "    </tr>\n",
       "    <tr>\n",
       "      <th>李大爷</th>\n",
       "      <td>90</td>\n",
       "      <td>15</td>\n",
       "      <td>无能怒吼-- 作为一名老油条,能bb就绝不动手.吼的比谁都大,伤害 15, 让人怒气值加20</td>\n",
       "    </tr>\n",
       "  </tbody>\n",
       "</table>\n",
       "</div>"
      ],
      "text/plain": [
       "     血量 愤怒值                                                 技能\n",
       "张大妈  80  30  无情铁嘴-- 作为妇女联盟盟主,一口无情的嘴是她征战江湖的利器, 真实伤害10, 让人愤怒值加15\n",
       "李大爷  90  15     无能怒吼-- 作为一名老油条,能bb就绝不动手.吼的比谁都大,伤害 15, 让人怒气值加20"
      ]
     },
     "execution_count": 14,
     "metadata": {},
     "output_type": "execute_result"
    }
   ],
   "source": [
    "#李大爷发起技能 无能怒吼\n",
    "ddd.iloc[1, 2] = '无能怒吼-- 作为一名老油条,能bb就绝不动手.吼的比谁都大,伤害 15, 让人怒气值加20'\n",
    "ddd.iloc[0, 0] = 80\n",
    "ddd.iloc[0, 1] = 30\n",
    "ddd"
   ]
  },
  {
   "cell_type": "markdown",
   "metadata": {},
   "source": [
    "放你娘西皮的屁,老子不打女人,让着你还以为你天下第一?就这个泼妇的性格.\n",
    "也就贾绿龟这个武大郎忍的了你,被带了帽子还不敢说话,要是我老婆这样,早给老子给休了."
   ]
  },
  {
   "cell_type": "code",
   "execution_count": 18,
   "metadata": {},
   "outputs": [
    {
     "data": {
      "text/html": [
       "<div>\n",
       "<style scoped>\n",
       "    .dataframe tbody tr th:only-of-type {\n",
       "        vertical-align: middle;\n",
       "    }\n",
       "\n",
       "    .dataframe tbody tr th {\n",
       "        vertical-align: top;\n",
       "    }\n",
       "\n",
       "    .dataframe thead th {\n",
       "        text-align: right;\n",
       "    }\n",
       "</style>\n",
       "<table border=\"1\" class=\"dataframe\">\n",
       "  <thead>\n",
       "    <tr style=\"text-align: right;\">\n",
       "      <th></th>\n",
       "      <th>血量</th>\n",
       "      <th>愤怒值</th>\n",
       "      <th>技能</th>\n",
       "    </tr>\n",
       "  </thead>\n",
       "  <tbody>\n",
       "    <tr>\n",
       "      <th>张大妈</th>\n",
       "      <td>65</td>\n",
       "      <td>60</td>\n",
       "      <td>你不要在打了-- 你不要在打了,这样打是打不死人的!</td>\n",
       "    </tr>\n",
       "    <tr>\n",
       "      <th>李大爷</th>\n",
       "      <td>40</td>\n",
       "      <td>55</td>\n",
       "      <td>无能怒吼-- 作为一名老油条,能bb就绝不动手.吼的比谁都大,伤害 15, 让人怒气值加20</td>\n",
       "    </tr>\n",
       "  </tbody>\n",
       "</table>\n",
       "</div>"
      ],
      "text/plain": [
       "     血量 愤怒值                                              技能\n",
       "张大妈  65  60                      你不要在打了-- 你不要在打了,这样打是打不死人的!\n",
       "李大爷  40  55  无能怒吼-- 作为一名老油条,能bb就绝不动手.吼的比谁都大,伤害 15, 让人怒气值加20"
      ]
     },
     "execution_count": 18,
     "metadata": {},
     "output_type": "execute_result"
    }
   ],
   "source": [
    "# 李大爷戳中张大妈尾巴,伤害双倍,愤怒值翻倍\n",
    "ddd.iloc[0,0] = 65\n",
    "ddd.iloc[0,1] = 60\n",
    "# 张大妈愤怒值已超50,发起技能  你不要在打了\n",
    "ddd.iloc[0,2] = '你不要在打了-- 你不要在打了,这样打是打不死人的!'\n",
    "ddd.iloc[1,0] = 40\n",
    "ddd.iloc[1,1] = 65\n",
    "ddd"
   ]
  },
  {
   "cell_type": "code",
   "execution_count": 16,
   "metadata": {},
   "outputs": [
    {
     "data": {
      "text/plain": [
       "<matplotlib.image.AxesImage at 0x1bc0688e710>"
      ]
     },
     "execution_count": 16,
     "metadata": {},
     "output_type": "execute_result"
    },
    {
     "data": {
      "image/png": "[encoded data removed]",
      "text/plain": [
       "<Figure size 432x288 with 1 Axes>"
      ]
     },
     "metadata": {},
     "output_type": "display_data"
    }
   ],
   "source": [
    "fight = plt.imread('fight.jpg')\n",
    "plt.imshow(fight)"
   ]
  },
  {
   "cell_type": "markdown",
   "metadata": {},
   "source": [
    "李瘪三,今天我跟你不死不休,江湖规矩,你能比舞赢我,以后我见到你李瘪三就绕道走."
   ]
  },
  {
   "cell_type": "code",
   "execution_count": 19,
   "metadata": {},
   "outputs": [
    {
     "data": {
      "text/html": [
       "<div>\n",
       "<style scoped>\n",
       "    .dataframe tbody tr th:only-of-type {\n",
       "        vertical-align: middle;\n",
       "    }\n",
       "\n",
       "    .dataframe tbody tr th {\n",
       "        vertical-align: top;\n",
       "    }\n",
       "\n",
       "    .dataframe thead th {\n",
       "        text-align: right;\n",
       "    }\n",
       "</style>\n",
       "<table border=\"1\" class=\"dataframe\">\n",
       "  <thead>\n",
       "    <tr style=\"text-align: right;\">\n",
       "      <th></th>\n",
       "      <th>血量</th>\n",
       "      <th>愤怒值</th>\n",
       "      <th>技能</th>\n",
       "    </tr>\n",
       "  </thead>\n",
       "  <tbody>\n",
       "    <tr>\n",
       "      <th>张大妈</th>\n",
       "      <td>30</td>\n",
       "      <td>90</td>\n",
       "      <td>你不要在打了-- 你不要在打了,这样打是打不死人的!</td>\n",
       "    </tr>\n",
       "    <tr>\n",
       "      <th>李大爷</th>\n",
       "      <td>40</td>\n",
       "      <td>55</td>\n",
       "      <td>回手掏-- 回手掏，鬼刀一开看不见，走位走位，手里干哈哈哈哈哈哈哈</td>\n",
       "    </tr>\n",
       "  </tbody>\n",
       "</table>\n",
       "</div>"
      ],
      "text/plain": [
       "     血量 愤怒值                                 技能\n",
       "张大妈  30  90         你不要在打了-- 你不要在打了,这样打是打不死人的!\n",
       "李大爷  40  55  回手掏-- 回手掏，鬼刀一开看不见，走位走位，手里干哈哈哈哈哈哈哈"
      ]
     },
     "execution_count": 19,
     "metadata": {},
     "output_type": "execute_result"
    }
   ],
   "source": [
    "# 李大爷发动技能 回手掏\n",
    "ddd.iloc[1, 2] = '回手掏-- 回手掏，鬼刀一开看不见，走位走位，手里干哈哈哈哈哈哈哈'\n",
    "ddd.iloc[0, 0] = 30\n",
    "ddd.iloc[0, 1] = 90\n",
    "ddd"
   ]
  },
  {
   "cell_type": "markdown",
   "metadata": {},
   "source": []
  },
  {
   "cell_type": "markdown",
   "metadata": {},
   "source": [
    "who怕who? 李大爷反手拿出他的手机,放出muisc. 跳出他的老年disco,"
   ]
  },
  {
   "cell_type": "code",
   "execution_count": 20,
   "metadata": {},
   "outputs": [
    {
     "data": {
      "text/plain": [
       "<matplotlib.image.AxesImage at 0x1bc06b2aac8>"
      ]
     },
     "execution_count": 20,
     "metadata": {},
     "output_type": "execute_result"
    },
    {
     "data": {
      "image/png": "[encoded data removed]",
      "text/plain": [
       "<Figure size 432x288 with 1 Axes>"
      ]
     },
     "metadata": {},
     "output_type": "display_data"
    }
   ],
   "source": [
    "fight1 = plt.imread('fight2.jpg')\n",
    "plt.imshow(fight1)"
   ]
  },
  {
   "cell_type": "markdown",
   "metadata": {},
   "source": [
    "斗宗强者,恐怖如斯,李大爷和张大妈,卒!"
   ]
  }
 ],
 "metadata": {
  "kernelspec": {
   "display_name": "Python 3",
   "language": "python",
   "name": "python3"
  },
  "language_info": {
   "codemirror_mode": {
    "name": "ipython",
    "version": 3
   },
   "file_extension": ".py",
   "mimetype": "text/x-python",
   "name": "python",
   "nbconvert_exporter": "python",
   "pygments_lexer": "ipython3",
   "version": "3.6.5"
  }
 },
 "nbformat": 4,
 "nbformat_minor": 2
}
