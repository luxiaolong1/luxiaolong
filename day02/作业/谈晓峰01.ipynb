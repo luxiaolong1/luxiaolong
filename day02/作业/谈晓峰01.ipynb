{
 "cells": [
  {
   "cell_type": "markdown",
   "metadata": {},
   "source": [
    "## 1、创建一个长度为10的一维全为0的ndarray对象，然后让第5个元素等于1"
   ]
  },
  {
   "cell_type": "code",
   "execution_count": 2,
   "metadata": {},
   "outputs": [],
   "source": [
    "import numpy as np"
   ]
  },
  {
   "cell_type": "code",
   "execution_count": 11,
   "metadata": {},
   "outputs": [
    {
     "data": {
      "text/plain": [
       "array([0., 0., 0., 0., 0., 0., 0., 0., 0., 0.])"
      ]
     },
     "execution_count": 11,
     "metadata": {},
     "output_type": "execute_result"
    }
   ],
   "source": [
    "a1 = np.zeros(10)\n",
    "a1"
   ]
  },
  {
   "cell_type": "code",
   "execution_count": 12,
   "metadata": {},
   "outputs": [],
   "source": [
    "a1[4]=1"
   ]
  },
  {
   "cell_type": "code",
   "execution_count": 13,
   "metadata": {},
   "outputs": [
    {
     "data": {
      "text/plain": [
       "array([0., 0., 0., 0., 1., 0., 0., 0., 0., 0.])"
      ]
     },
     "metadata": {},
     "output_type": "display_data"
    }
   ],
   "source": [
    "display(a1)"
   ]
  },
  {
   "cell_type": "markdown",
   "metadata": {},
   "source": [
    "## 2、创建一个元素为从10到49的ndarray对象"
   ]
  },
  {
   "cell_type": "code",
   "execution_count": 14,
   "metadata": {
    "scrolled": true
   },
   "outputs": [
    {
     "data": {
      "text/plain": [
       "array([10, 11, 12, 13, 14, 15, 16, 17, 18, 19, 20, 21, 22, 23, 24, 25, 26,\n",
       "       27, 28, 29, 30, 31, 32, 33, 34, 35, 36, 37, 38, 39, 40, 41, 42, 43,\n",
       "       44, 45, 46, 47, 48, 49])"
      ]
     },
     "execution_count": 14,
     "metadata": {},
     "output_type": "execute_result"
    }
   ],
   "source": [
    "a2 = np.arange(10,50)\n",
    "a2"
   ]
  },
  {
   "cell_type": "markdown",
   "metadata": {},
   "source": [
    "## 3、将第2题的所有元素位置反转"
   ]
  },
  {
   "cell_type": "code",
   "execution_count": 15,
   "metadata": {
    "scrolled": true
   },
   "outputs": [
    {
     "data": {
      "text/plain": [
       "array([49, 48, 47, 46, 45, 44, 43, 42, 41, 40, 39, 38, 37, 36, 35, 34, 33,\n",
       "       32, 31, 30, 29, 28, 27, 26, 25, 24, 23, 22, 21, 20, 19, 18, 17, 16,\n",
       "       15, 14, 13, 12, 11, 10])"
      ]
     },
     "execution_count": 15,
     "metadata": {},
     "output_type": "execute_result"
    }
   ],
   "source": [
    "a3 = n[::-1]\n",
    "a3"
   ]
  },
  {
   "cell_type": "markdown",
   "metadata": {},
   "source": [
    "## 4、使用np.random.random创建一个10*10的ndarray对象，并打印出最大最小元素"
   ]
  },
  {
   "cell_type": "code",
   "execution_count": 19,
   "metadata": {},
   "outputs": [
    {
     "data": {
      "text/plain": [
       "array([[0.26831928, 0.18412246, 0.80351334, 0.98992248, 0.56510513,\n",
       "        0.99889362, 0.48957013, 0.09427325, 0.47258023, 0.44637929],\n",
       "       [0.4742354 , 0.80160143, 0.68860093, 0.76905242, 0.32892389,\n",
       "        0.4803152 , 0.88214865, 0.72390718, 0.71589957, 0.20732053],\n",
       "       [0.62135084, 0.79480307, 0.86945565, 0.73508614, 0.29338569,\n",
       "        0.7440766 , 0.89110548, 0.19786168, 0.98769599, 0.88183366],\n",
       "       [0.41019246, 0.98251564, 0.74246199, 0.67201773, 0.15027791,\n",
       "        0.81855878, 0.45826319, 0.81172066, 0.9591253 , 0.55737276],\n",
       "       [0.48129625, 0.0445965 , 0.2413455 , 0.9339113 , 0.3726392 ,\n",
       "        0.93795414, 0.1262967 , 0.9599666 , 0.42842892, 0.89423892],\n",
       "       [0.13585058, 0.3194218 , 0.91806699, 0.87448206, 0.53591559,\n",
       "        0.83181933, 0.03540947, 0.76742774, 0.71793194, 0.10066928],\n",
       "       [0.29763124, 0.71332212, 0.17748075, 0.91164855, 0.09266781,\n",
       "        0.58929569, 0.9517595 , 0.40144919, 0.37549346, 0.19215656],\n",
       "       [0.78481669, 0.31503883, 0.44985424, 0.8688506 , 0.64355775,\n",
       "        0.04714582, 0.17112101, 0.30748608, 0.65888839, 0.04518928],\n",
       "       [0.03369623, 0.01585974, 0.20877165, 0.78842352, 0.14364954,\n",
       "        0.4784425 , 0.97003772, 0.32984653, 0.48005045, 0.36626693],\n",
       "       [0.12873558, 0.27151506, 0.02230181, 0.1464728 , 0.01105966,\n",
       "        0.31508847, 0.92740433, 0.11462787, 0.83515808, 0.84663657]])"
      ]
     },
     "execution_count": 19,
     "metadata": {},
     "output_type": "execute_result"
    }
   ],
   "source": [
    "a4 = np.random.random(size=(10,10))\n",
    "a4"
   ]
  },
  {
   "cell_type": "code",
   "execution_count": 21,
   "metadata": {},
   "outputs": [
    {
     "data": {
      "text/plain": [
       "0.9988936192944816"
      ]
     },
     "execution_count": 21,
     "metadata": {},
     "output_type": "execute_result"
    }
   ],
   "source": [
    "a4.max()"
   ]
  },
  {
   "cell_type": "code",
   "execution_count": 22,
   "metadata": {},
   "outputs": [
    {
     "data": {
      "text/plain": [
       "0.011059658800170458"
      ]
     },
     "execution_count": 22,
     "metadata": {},
     "output_type": "execute_result"
    }
   ],
   "source": [
    "a4.min()"
   ]
  },
  {
   "cell_type": "markdown",
   "metadata": {},
   "source": [
    "## 5、创建一个10*10的ndarray对象，且矩阵边界全为1，里面全为0"
   ]
  },
  {
   "cell_type": "code",
   "execution_count": 24,
   "metadata": {
    "scrolled": false
   },
   "outputs": [
    {
     "data": {
      "text/plain": [
       "array([[1., 1., 1., 1., 1., 1., 1., 1., 1., 1.],\n",
       "       [1., 0., 0., 0., 0., 0., 0., 0., 0., 1.],\n",
       "       [1., 0., 0., 0., 0., 0., 0., 0., 0., 1.],\n",
       "       [1., 0., 0., 0., 0., 0., 0., 0., 0., 1.],\n",
       "       [1., 0., 0., 0., 0., 0., 0., 0., 0., 1.],\n",
       "       [1., 0., 0., 0., 0., 0., 0., 0., 0., 1.],\n",
       "       [1., 0., 0., 0., 0., 0., 0., 0., 0., 1.],\n",
       "       [1., 0., 0., 0., 0., 0., 0., 0., 0., 1.],\n",
       "       [1., 0., 0., 0., 0., 0., 0., 0., 0., 1.],\n",
       "       [1., 1., 1., 1., 1., 1., 1., 1., 1., 1.]])"
      ]
     },
     "execution_count": 24,
     "metadata": {},
     "output_type": "execute_result"
    }
   ],
   "source": [
    "a5 = np.ones((10,10))\n",
    "a5[1:9,1:9] = 0\n",
    "a5"
   ]
  },
  {
   "cell_type": "markdown",
   "metadata": {},
   "source": [
    "## 6、创建一个每一行都是从0到4的5*5矩阵"
   ]
  },
  {
   "cell_type": "code",
   "execution_count": 32,
   "metadata": {},
   "outputs": [
    {
     "data": {
      "text/plain": [
       "array([[0, 1, 2, 3, 4],\n",
       "       [0, 1, 2, 3, 4],\n",
       "       [0, 1, 2, 3, 4],\n",
       "       [0, 1, 2, 3, 4],\n",
       "       [0, 1, 2, 3, 4]])"
      ]
     },
     "execution_count": 32,
     "metadata": {},
     "output_type": "execute_result"
    }
   ],
   "source": [
    "a6_1 = [0,1,2,3,4]\n",
    "a6_2 = np.array(a6_1 * 5)\n",
    "a6 = np.reshape(a6_2,(5,5))\n",
    "a6"
   ]
  },
  {
   "cell_type": "markdown",
   "metadata": {},
   "source": [
    "## 7、创建一个范围在(0,1)之间的长度为12的等差数列"
   ]
  },
  {
   "cell_type": "code",
   "execution_count": 33,
   "metadata": {
    "scrolled": true
   },
   "outputs": [
    {
     "data": {
      "text/plain": [
       "array([0.        , 0.09090909, 0.18181818, 0.27272727, 0.36363636,\n",
       "       0.45454545, 0.54545455, 0.63636364, 0.72727273, 0.81818182,\n",
       "       0.90909091, 1.        ])"
      ]
     },
     "execution_count": 33,
     "metadata": {},
     "output_type": "execute_result"
    }
   ],
   "source": [
    "a7 = np.linspace(0,1,12)\n",
    "a7"
   ]
  },
  {
   "cell_type": "markdown",
   "metadata": {},
   "source": [
    "## 8、创建一个长度为10的随机数组并排序"
   ]
  },
  {
   "cell_type": "code",
   "execution_count": 34,
   "metadata": {},
   "outputs": [
    {
     "data": {
      "text/plain": [
       "array([0.08780926, 0.21147261, 0.96810655, 0.21382124, 0.87361639,\n",
       "       0.72558052, 0.99437265, 0.06667028, 0.6789242 , 0.69189204])"
      ]
     },
     "execution_count": 34,
     "metadata": {},
     "output_type": "execute_result"
    }
   ],
   "source": [
    "a8 = np.random.random(10)\n",
    "a8"
   ]
  },
  {
   "cell_type": "code",
   "execution_count": 36,
   "metadata": {},
   "outputs": [
    {
     "data": {
      "text/plain": [
       "array([0.06667028, 0.08780926, 0.21147261, 0.21382124, 0.6789242 ,\n",
       "       0.69189204, 0.72558052, 0.87361639, 0.96810655, 0.99437265])"
      ]
     },
     "execution_count": 36,
     "metadata": {},
     "output_type": "execute_result"
    }
   ],
   "source": [
    "a8.sort()\n",
    "a8"
   ]
  },
  {
   "cell_type": "markdown",
   "metadata": {},
   "source": [
    "## 9、创建一个长度为10的随机数组并将最大值替换为0"
   ]
  },
  {
   "cell_type": "code",
   "execution_count": 37,
   "metadata": {},
   "outputs": [
    {
     "data": {
      "text/plain": [
       "array([0.10172489, 0.06057438, 0.55163086, 0.64564157, 0.06271094,\n",
       "       0.81665414, 0.45546635, 0.23908186, 0.30079285, 0.34679634])"
      ]
     },
     "execution_count": 37,
     "metadata": {},
     "output_type": "execute_result"
    }
   ],
   "source": [
    "a9 = np.random.random(10)\n",
    "a9"
   ]
  },
  {
   "cell_type": "code",
   "execution_count": 41,
   "metadata": {},
   "outputs": [
    {
     "data": {
      "text/plain": [
       "array([0.10172489, 0.06057438, 0.55163086, 0.        , 0.06271094,\n",
       "       0.        , 0.45546635, 0.23908186, 0.30079285, 0.34679634])"
      ]
     },
     "execution_count": 41,
     "metadata": {},
     "output_type": "execute_result"
    }
   ],
   "source": [
    "max_index = a9.argmax()\n",
    "a9[max_index]=0\n",
    "a9"
   ]
  },
  {
   "cell_type": "markdown",
   "metadata": {},
   "source": [
    "## 10、如何根据第3列来对一个5*5矩阵排序？"
   ]
  },
  {
   "cell_type": "code",
   "execution_count": 43,
   "metadata": {},
   "outputs": [
    {
     "data": {
      "text/plain": [
       "array([[63, 98, 51, 58, 23],\n",
       "       [39, 60, 34, 92, 26],\n",
       "       [52, 85, 47, 93, 77],\n",
       "       [17, 42, 58,  3, 25],\n",
       "       [79, 33, 21, 18, 15]])"
      ]
     },
     "execution_count": 43,
     "metadata": {},
     "output_type": "execute_result"
    }
   ],
   "source": [
    "a10 = np.random.randint(1,100,size=(5,5))\n",
    "a10"
   ]
  },
  {
   "cell_type": "code",
   "execution_count": 48,
   "metadata": {},
   "outputs": [
    {
     "data": {
      "text/plain": [
       "array([4, 1, 2, 0, 3], dtype=int64)"
      ]
     },
     "execution_count": 48,
     "metadata": {},
     "output_type": "execute_result"
    }
   ],
   "source": [
    "np.argsort(a10[:,2])"
   ]
  },
  {
   "cell_type": "code",
   "execution_count": 47,
   "metadata": {},
   "outputs": [
    {
     "data": {
      "text/plain": [
       "array([[79, 33, 21, 18, 15],\n",
       "       [39, 60, 34, 92, 26],\n",
       "       [52, 85, 47, 93, 77],\n",
       "       [63, 98, 51, 58, 23],\n",
       "       [17, 42, 58,  3, 25]])"
      ]
     },
     "execution_count": 47,
     "metadata": {},
     "output_type": "execute_result"
    }
   ],
   "source": [
    "a10[np.argsort(a10[:,2])]"
   ]
  },
  {
   "cell_type": "markdown",
   "metadata": {},
   "source": [
    "## 11、给定一个4维矩阵，如何得到最后两维的和？"
   ]
  },
  {
   "cell_type": "code",
   "execution_count": 50,
   "metadata": {},
   "outputs": [
    {
     "data": {
      "text/plain": [
       "array([[[[ 4, 82, 58, 68, 63],\n",
       "         [99,  9,  1, 94, 95]],\n",
       "\n",
       "        [[85, 81, 83, 19, 21],\n",
       "         [61, 96,  2,  7, 86]],\n",
       "\n",
       "        [[43, 84, 56, 55, 79],\n",
       "         [48, 82, 84, 66, 90]]],\n",
       "\n",
       "\n",
       "       [[[30, 71, 93, 60, 50],\n",
       "         [74, 58, 72, 20, 37]],\n",
       "\n",
       "        [[83, 23, 87, 31, 62],\n",
       "         [29, 80, 14, 67, 33]],\n",
       "\n",
       "        [[28, 70, 10, 75, 35],\n",
       "         [93, 55,  2, 50, 83]]],\n",
       "\n",
       "\n",
       "       [[[30, 20,  6, 97, 84],\n",
       "         [47, 74, 93, 38, 82]],\n",
       "\n",
       "        [[91, 11,  0,  4,  2],\n",
       "         [15, 85, 62, 55, 37]],\n",
       "\n",
       "        [[65, 69, 87, 31, 60],\n",
       "         [ 2, 23, 39, 28, 80]]],\n",
       "\n",
       "\n",
       "       [[[86,  9, 92, 24, 27],\n",
       "         [33, 93, 74, 57, 54]],\n",
       "\n",
       "        [[96, 49, 60, 20, 95],\n",
       "         [27, 78, 36, 75, 17]],\n",
       "\n",
       "        [[48, 49, 41, 70, 26],\n",
       "         [ 7, 77, 94, 29, 59]]]])"
      ]
     },
     "execution_count": 50,
     "metadata": {},
     "output_type": "execute_result"
    }
   ],
   "source": [
    "a11 = np.random.randint(0,100,size=(4,3,2,5))\n",
    "a11"
   ]
  },
  {
   "cell_type": "code",
   "execution_count": 61,
   "metadata": {},
   "outputs": [
    {
     "data": {
      "text/plain": [
       "array([[[103,  91,  59, 162, 158],\n",
       "        [146, 177,  85,  26, 107],\n",
       "        [ 91, 166, 140, 121, 169]],\n",
       "\n",
       "       [[104, 129, 165,  80,  87],\n",
       "        [112, 103, 101,  98,  95],\n",
       "        [121, 125,  12, 125, 118]],\n",
       "\n",
       "       [[ 77,  94,  99, 135, 166],\n",
       "        [106,  96,  62,  59,  39],\n",
       "        [ 67,  92, 126,  59, 140]],\n",
       "\n",
       "       [[119, 102, 166,  81,  81],\n",
       "        [123, 127,  96,  95, 112],\n",
       "        [ 55, 126, 135,  99,  85]]])"
      ]
     },
     "execution_count": 61,
     "metadata": {},
     "output_type": "execute_result"
    }
   ],
   "source": [
    "#第三维的和\n",
    "a11.sum(axis=2)"
   ]
  },
  {
   "cell_type": "code",
   "execution_count": 62,
   "metadata": {},
   "outputs": [
    {
     "data": {
      "text/plain": [
       "array([[[275, 298],\n",
       "        [289, 252],\n",
       "        [317, 370]],\n",
       "\n",
       "       [[304, 261],\n",
       "        [286, 223],\n",
       "        [218, 283]],\n",
       "\n",
       "       [[237, 334],\n",
       "        [108, 254],\n",
       "        [312, 172]],\n",
       "\n",
       "       [[238, 311],\n",
       "        [320, 233],\n",
       "        [234, 266]]])"
      ]
     },
     "execution_count": 62,
     "metadata": {},
     "output_type": "execute_result"
    }
   ],
   "source": [
    "#第四维的和\n",
    "a11.sum(axis=3)"
   ]
  },
  {
   "cell_type": "markdown",
   "metadata": {},
   "source": [
    "## 12、给定数组[1, 2, 3, 4, 5]，如何得到在这个数组的每个元素之间插入3个0后的新数组？"
   ]
  },
  {
   "cell_type": "code",
   "execution_count": 66,
   "metadata": {},
   "outputs": [
    {
     "data": {
      "text/plain": [
       "array([[1],\n",
       "       [2],\n",
       "       [3],\n",
       "       [4],\n",
       "       [5]])"
      ]
     },
     "execution_count": 66,
     "metadata": {},
     "output_type": "execute_result"
    }
   ],
   "source": [
    "a12_1 = np.array([1,2,3,4,5]).reshape(5,1)\n",
    "a12_1"
   ]
  },
  {
   "cell_type": "code",
   "execution_count": 69,
   "metadata": {},
   "outputs": [
    {
     "data": {
      "text/plain": [
       "array([[0., 0., 0.],\n",
       "       [0., 0., 0.],\n",
       "       [0., 0., 0.],\n",
       "       [0., 0., 0.],\n",
       "       [0., 0., 0.]])"
      ]
     },
     "execution_count": 69,
     "metadata": {},
     "output_type": "execute_result"
    }
   ],
   "source": [
    "a12_2 = np.zeros((5,3))\n",
    "a12_2"
   ]
  },
  {
   "cell_type": "code",
   "execution_count": 73,
   "metadata": {},
   "outputs": [
    {
     "data": {
      "text/plain": [
       "array([[1., 0., 0., 0.],\n",
       "       [2., 0., 0., 0.],\n",
       "       [3., 0., 0., 0.],\n",
       "       [4., 0., 0., 0.],\n",
       "       [5., 0., 0., 0.]])"
      ]
     },
     "execution_count": 73,
     "metadata": {},
     "output_type": "execute_result"
    }
   ],
   "source": [
    "a12 = np.concatenate([a12_1,a12_2],axis=1)\n",
    "a12"
   ]
  },
  {
   "cell_type": "markdown",
   "metadata": {},
   "source": [
    "## 13、给定一个二维矩阵，如何交换其中两行的元素？"
   ]
  },
  {
   "cell_type": "code",
   "execution_count": 76,
   "metadata": {},
   "outputs": [
    {
     "data": {
      "text/plain": [
       "array([[48, 39, 13],\n",
       "       [82, 21, 57],\n",
       "       [48, 14, 80],\n",
       "       [13, 23, 54]])"
      ]
     },
     "execution_count": 76,
     "metadata": {},
     "output_type": "execute_result"
    }
   ],
   "source": [
    "a13 = np.random.randint(0,100,size=(4,3))\n",
    "a13"
   ]
  },
  {
   "cell_type": "code",
   "execution_count": 77,
   "metadata": {
    "scrolled": true
   },
   "outputs": [
    {
     "data": {
      "text/plain": [
       "array([[82, 21, 57],\n",
       "       [48, 39, 13],\n",
       "       [48, 14, 80],\n",
       "       [13, 23, 54]])"
      ]
     },
     "execution_count": 77,
     "metadata": {},
     "output_type": "execute_result"
    }
   ],
   "source": [
    "#交换索引\n",
    "a13[[1,0,2,3]]"
   ]
  },
  {
   "cell_type": "markdown",
   "metadata": {},
   "source": [
    "## 14、创建一个100000长度的随机数组，使用两种方法对其求三次方，并比较所用时间"
   ]
  },
  {
   "cell_type": "code",
   "execution_count": 80,
   "metadata": {},
   "outputs": [
    {
     "data": {
      "text/plain": [
       "array([0.88123753, 0.48380861, 0.97015463, ..., 0.19633086, 0.37569421,\n",
       "       0.62336992])"
      ]
     },
     "execution_count": 80,
     "metadata": {},
     "output_type": "execute_result"
    }
   ],
   "source": [
    "a14 =  np.random.random(size=100000)\n",
    "a14"
   ]
  },
  {
   "cell_type": "code",
   "execution_count": 81,
   "metadata": {},
   "outputs": [
    {
     "name": "stdout",
     "output_type": "stream",
     "text": [
      "5.26 ms ± 88.6 µs per loop (mean ± std. dev. of 7 runs, 100 loops each)\n"
     ]
    }
   ],
   "source": [
    "%timeit np.power(a14,3)"
   ]
  },
  {
   "cell_type": "code",
   "execution_count": 82,
   "metadata": {},
   "outputs": [
    {
     "name": "stdout",
     "output_type": "stream",
     "text": [
      "5.51 ms ± 376 µs per loop (mean ± std. dev. of 7 runs, 100 loops each)\n"
     ]
    }
   ],
   "source": [
    "%timeit a14**3"
   ]
  },
  {
   "cell_type": "markdown",
   "metadata": {},
   "source": [
    " ## 15、创建一个5 * 3随机矩阵和一个3 * 2随机矩阵，求矩阵积"
   ]
  },
  {
   "cell_type": "code",
   "execution_count": 83,
   "metadata": {},
   "outputs": [
    {
     "data": {
      "text/plain": [
       "array([[67, 61,  7],\n",
       "       [62, 79, 41],\n",
       "       [21, 11, 89],\n",
       "       [23, 57, 23],\n",
       "       [ 5, 20, 22]])"
      ]
     },
     "execution_count": 83,
     "metadata": {},
     "output_type": "execute_result"
    }
   ],
   "source": [
    "a15_1 = np.random.randint(0,100,size=(5,3))\n",
    "a15_1"
   ]
  },
  {
   "cell_type": "code",
   "execution_count": 84,
   "metadata": {},
   "outputs": [
    {
     "data": {
      "text/plain": [
       "array([[15, 47],\n",
       "       [35, 58],\n",
       "       [72, 48]])"
      ]
     },
     "execution_count": 84,
     "metadata": {},
     "output_type": "execute_result"
    }
   ],
   "source": [
    "a15_2 = np.random.randint(0,100,size=(3,2))\n",
    "a15_2"
   ]
  },
  {
   "cell_type": "code",
   "execution_count": 85,
   "metadata": {},
   "outputs": [
    {
     "data": {
      "text/plain": [
       "array([[3644, 7023],\n",
       "       [6647, 9464],\n",
       "       [7108, 5897],\n",
       "       [3996, 5491],\n",
       "       [2359, 2451]])"
      ]
     },
     "execution_count": 85,
     "metadata": {},
     "output_type": "execute_result"
    }
   ],
   "source": [
    "np.dot(a15_1,a15_2)"
   ]
  },
  {
   "cell_type": "markdown",
   "metadata": {},
   "source": [
    "## 16、矩阵的每一行的元素都减去该行的平均值"
   ]
  },
  {
   "cell_type": "code",
   "execution_count": 6,
   "metadata": {},
   "outputs": [
    {
     "data": {
      "text/plain": [
       "array([[ 4, 89, 33],\n",
       "       [82, 71, 14],\n",
       "       [74, 46, 67],\n",
       "       [33, 78, 61]])"
      ]
     },
     "execution_count": 6,
     "metadata": {},
     "output_type": "execute_result"
    }
   ],
   "source": [
    "a16 = np.random.randint(0,100,size=(4,3))\n",
    "a16"
   ]
  },
  {
   "cell_type": "code",
   "execution_count": 8,
   "metadata": {},
   "outputs": [
    {
     "data": {
      "text/plain": [
       "array([[42.        ],\n",
       "       [55.66666667],\n",
       "       [62.33333333],\n",
       "       [57.33333333]])"
      ]
     },
     "execution_count": 8,
     "metadata": {},
     "output_type": "execute_result"
    }
   ],
   "source": [
    "a16_mean = np.mean(a16,axis=1)\n",
    "a16_m = np.vstack(a16_mean)\n",
    "a16_m"
   ]
  },
  {
   "cell_type": "code",
   "execution_count": 9,
   "metadata": {},
   "outputs": [
    {
     "data": {
      "text/plain": [
       "array([[-38.        ,  47.        ,  -9.        ],\n",
       "       [ 26.33333333,  15.33333333, -41.66666667],\n",
       "       [ 11.66666667, -16.33333333,   4.66666667],\n",
       "       [-24.33333333,  20.66666667,   3.66666667]])"
      ]
     },
     "execution_count": 9,
     "metadata": {},
     "output_type": "execute_result"
    }
   ],
   "source": [
    "a16 - a16_m"
   ]
  },
  {
   "cell_type": "code",
   "execution_count": null,
   "metadata": {},
   "outputs": [],
   "source": []
  }
 ],
 "metadata": {
  "kernelspec": {
   "display_name": "Python 3",
   "language": "python",
   "name": "python3"
  },
  "language_info": {
   "codemirror_mode": {
    "name": "ipython",
    "version": 3
   },
   "file_extension": ".py",
   "mimetype": "text/x-python",
   "name": "python",
   "nbconvert_exporter": "python",
   "pygments_lexer": "ipython3",
   "version": "3.6.5"
  }
 },
 "nbformat": 4,
 "nbformat_minor": 2
}
