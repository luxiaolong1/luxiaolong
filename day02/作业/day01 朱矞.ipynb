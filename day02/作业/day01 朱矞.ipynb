{
 "cells": [
  {
   "cell_type": "code",
   "execution_count": 5,
   "metadata": {},
   "outputs": [],
   "source": [
    "import numpy as np"
   ]
  },
  {
   "cell_type": "markdown",
   "metadata": {},
   "source": [
    "## 1、创建一个长度为10的一维全为0的ndarray对象，然后让第5个元素等于1"
   ]
  },
  {
   "cell_type": "code",
   "execution_count": 12,
   "metadata": {},
   "outputs": [
    {
     "data": {
      "text/plain": [
       "array([0, 0, 0, 0, 1, 0, 0, 0, 0, 0])"
      ]
     },
     "execution_count": 12,
     "metadata": {},
     "output_type": "execute_result"
    }
   ],
   "source": [
    "n1 = np.zeros(10,dtype=np.int)\n",
    "n1[4] = 1\n",
    "n1"
   ]
  },
  {
   "cell_type": "markdown",
   "metadata": {},
   "source": [
    "## 2、创建一个元素为从10到49的ndarray对象"
   ]
  },
  {
   "cell_type": "code",
   "execution_count": 14,
   "metadata": {},
   "outputs": [
    {
     "data": {
      "text/plain": [
       "array([10, 11, 12, 13, 14, 15, 16, 17, 18, 19, 20, 21, 22, 23, 24, 25, 26,\n",
       "       27, 28, 29, 30, 31, 32, 33, 34, 35, 36, 37, 38, 39, 40, 41, 42, 43,\n",
       "       44, 45, 46, 47, 48, 49])"
      ]
     },
     "execution_count": 14,
     "metadata": {},
     "output_type": "execute_result"
    }
   ],
   "source": [
    "n2 = np.arange(10, 50)\n",
    "n2"
   ]
  },
  {
   "cell_type": "markdown",
   "metadata": {},
   "source": [
    "## 3、将第2题的所有元素位置反转"
   ]
  },
  {
   "cell_type": "code",
   "execution_count": 15,
   "metadata": {},
   "outputs": [
    {
     "data": {
      "text/plain": [
       "array([49, 48, 47, 46, 45, 44, 43, 42, 41, 40, 39, 38, 37, 36, 35, 34, 33,\n",
       "       32, 31, 30, 29, 28, 27, 26, 25, 24, 23, 22, 21, 20, 19, 18, 17, 16,\n",
       "       15, 14, 13, 12, 11, 10])"
      ]
     },
     "execution_count": 15,
     "metadata": {},
     "output_type": "execute_result"
    }
   ],
   "source": [
    "n3 = n2[::-1]\n",
    "n3"
   ]
  },
  {
   "cell_type": "markdown",
   "metadata": {},
   "source": [
    "## 4、使用np.random.random创建一个10*10的ndarray对象，并打印出最大最小元素"
   ]
  },
  {
   "cell_type": "code",
   "execution_count": 20,
   "metadata": {},
   "outputs": [
    {
     "data": {
      "text/plain": [
       "array([[0.09394215, 0.59768865, 0.96206182, 0.62049968, 0.56343989,\n",
       "        0.77942895, 0.56076755, 0.09404869, 0.6327115 , 0.69832407],\n",
       "       [0.58214802, 0.20077386, 0.55529304, 0.97317717, 0.31452708,\n",
       "        0.46602955, 0.11368712, 0.4364268 , 0.52207165, 0.80782498],\n",
       "       [0.96618614, 0.77755802, 0.02471698, 0.57289443, 0.53086373,\n",
       "        0.13046213, 0.15718837, 0.63754282, 0.3399047 , 0.0747503 ],\n",
       "       [0.16185038, 0.32630927, 0.69243725, 0.73824191, 0.89668902,\n",
       "        0.93853078, 0.63855415, 0.42366342, 0.10982353, 0.24431599],\n",
       "       [0.90681933, 0.54337598, 0.52607947, 0.92000248, 0.50261199,\n",
       "        0.28673832, 0.84470742, 0.13588831, 0.37780111, 0.2782386 ],\n",
       "       [0.78040063, 0.39023093, 0.14793331, 0.73723438, 0.72004446,\n",
       "        0.84187737, 0.42353364, 0.47456267, 0.04223742, 0.19910058],\n",
       "       [0.19830314, 0.72468138, 0.04153713, 0.80868955, 0.51926081,\n",
       "        0.02289204, 0.04696568, 0.05968607, 0.53867683, 0.80441796],\n",
       "       [0.34061882, 0.4666112 , 0.60029972, 0.65848622, 0.47786547,\n",
       "        0.20718227, 0.73370847, 0.23402099, 0.11441375, 0.46687753],\n",
       "       [0.55641348, 0.99503034, 0.99763825, 0.32315305, 0.02889018,\n",
       "        0.08183759, 0.59750484, 0.9980506 , 0.96358908, 0.3919825 ],\n",
       "       [0.80717884, 0.28336039, 0.37415644, 0.81811152, 0.05881235,\n",
       "        0.60933976, 0.25983817, 0.25951689, 0.17838087, 0.52303114]])"
      ]
     },
     "execution_count": 20,
     "metadata": {},
     "output_type": "execute_result"
    }
   ],
   "source": [
    "n4 = np.random.random(size=(10,10))\n",
    "n4"
   ]
  },
  {
   "cell_type": "code",
   "execution_count": 21,
   "metadata": {},
   "outputs": [
    {
     "data": {
      "text/plain": [
       "0.9980505951555044"
      ]
     },
     "execution_count": 21,
     "metadata": {},
     "output_type": "execute_result"
    }
   ],
   "source": [
    "n4.max()"
   ]
  },
  {
   "cell_type": "code",
   "execution_count": 22,
   "metadata": {},
   "outputs": [
    {
     "data": {
      "text/plain": [
       "0.022892040855150952"
      ]
     },
     "execution_count": 22,
     "metadata": {},
     "output_type": "execute_result"
    }
   ],
   "source": [
    "n4.min()"
   ]
  },
  {
   "cell_type": "markdown",
   "metadata": {},
   "source": [
    "## 5、创建一个10*10的ndarray对象，且矩阵边界全为1，里面全为0"
   ]
  },
  {
   "cell_type": "code",
   "execution_count": 35,
   "metadata": {},
   "outputs": [
    {
     "data": {
      "text/plain": [
       "array([[1, 1, 1, 1, 1, 1, 1, 1, 1, 1],\n",
       "       [1, 0, 0, 0, 0, 0, 0, 0, 0, 1],\n",
       "       [1, 0, 0, 0, 0, 0, 0, 0, 0, 1],\n",
       "       [1, 0, 0, 0, 0, 0, 0, 0, 0, 1],\n",
       "       [1, 0, 0, 0, 0, 0, 0, 0, 0, 1],\n",
       "       [1, 0, 0, 0, 0, 0, 0, 0, 0, 1],\n",
       "       [1, 0, 0, 0, 0, 0, 0, 0, 0, 1],\n",
       "       [1, 0, 0, 0, 0, 0, 0, 0, 0, 1],\n",
       "       [1, 0, 0, 0, 0, 0, 0, 0, 0, 1],\n",
       "       [1, 1, 1, 1, 1, 1, 1, 1, 1, 1]])"
      ]
     },
     "execution_count": 35,
     "metadata": {},
     "output_type": "execute_result"
    }
   ],
   "source": [
    "n5 = np.ones((10,10), dtype=np.int)\n",
    "n5[1:-1, 1:-1] = 0\n",
    "n5"
   ]
  },
  {
   "cell_type": "markdown",
   "metadata": {},
   "source": [
    "## 6、创建一个每一行都是从0到4的5*5矩阵"
   ]
  },
  {
   "cell_type": "code",
   "execution_count": 56,
   "metadata": {},
   "outputs": [
    {
     "data": {
      "text/plain": [
       "array([[0, 1, 2, 3, 4],\n",
       "       [0, 1, 2, 3, 4],\n",
       "       [0, 1, 2, 3, 4],\n",
       "       [0, 1, 2, 3, 4],\n",
       "       [0, 1, 2, 3, 4]])"
      ]
     },
     "execution_count": 56,
     "metadata": {},
     "output_type": "execute_result"
    }
   ],
   "source": [
    "n5 = [0,1,2,3,4]\n",
    "n5 = np.array(n5*5)\n",
    "n5.reshape(5,5)"
   ]
  },
  {
   "cell_type": "markdown",
   "metadata": {},
   "source": [
    "## 7、创建一个范围在(0,1)之间的长度为12的等差数列"
   ]
  },
  {
   "cell_type": "code",
   "execution_count": 58,
   "metadata": {},
   "outputs": [
    {
     "data": {
      "text/plain": [
       "array([0.79079348, 0.00248118, 0.67636107, 0.64839542, 0.31871339,\n",
       "       0.50908833, 0.28856299, 0.01844673, 0.2518857 , 0.82229114,\n",
       "       0.28121559, 0.0318449 ])"
      ]
     },
     "execution_count": 58,
     "metadata": {},
     "output_type": "execute_result"
    }
   ],
   "source": [
    "n7 = np.random.rand(12)\n",
    "n7"
   ]
  },
  {
   "cell_type": "markdown",
   "metadata": {},
   "source": [
    "## 8、创建一个长度为10的随机数组并排序"
   ]
  },
  {
   "cell_type": "code",
   "execution_count": 70,
   "metadata": {},
   "outputs": [
    {
     "data": {
      "text/plain": [
       "array([13, 15, 18, 19, 24, 34, 35, 42, 45, 66])"
      ]
     },
     "execution_count": 70,
     "metadata": {},
     "output_type": "execute_result"
    }
   ],
   "source": [
    "n8 = np.random.randint(100,size=10)\n",
    "n8 = np.sort(n8)\n",
    "n8"
   ]
  },
  {
   "cell_type": "markdown",
   "metadata": {},
   "source": [
    "## 9、创建一个长度为10的随机数组并将最大值替换为0"
   ]
  },
  {
   "cell_type": "code",
   "execution_count": 71,
   "metadata": {},
   "outputs": [
    {
     "data": {
      "text/plain": [
       "array([ 7, 11, 12, 15, 42, 64, 72, 81, 84,  0])"
      ]
     },
     "execution_count": 71,
     "metadata": {},
     "output_type": "execute_result"
    }
   ],
   "source": [
    "n9 = np.random.randint(100,size=10)\n",
    "n9 = np.sort(n9)\n",
    "n9[-1] = 0\n",
    "n9"
   ]
  },
  {
   "cell_type": "markdown",
   "metadata": {},
   "source": [
    "## 10、如何根据第3列来对一个5*5矩阵排序？"
   ]
  },
  {
   "cell_type": "code",
   "execution_count": 76,
   "metadata": {},
   "outputs": [
    {
     "data": {
      "text/plain": [
       "array([[97,  0, 95, 65, 22],\n",
       "       [53, 96, 84, 76, 79],\n",
       "       [51, 13, 31, 56, 63],\n",
       "       [47,  6, 64, 22, 49],\n",
       "       [70, 95, 54, 84, 10]])"
      ]
     },
     "execution_count": 76,
     "metadata": {},
     "output_type": "execute_result"
    }
   ],
   "source": [
    "n10 = np.random.randint(100,size=(5, 5))\n",
    "\n",
    "n10"
   ]
  },
  {
   "cell_type": "markdown",
   "metadata": {},
   "source": [
    "## 11、给定一个4维矩阵，如何得到最后两维的和？"
   ]
  },
  {
   "cell_type": "code",
   "execution_count": 4,
   "metadata": {
    "scrolled": true
   },
   "outputs": [
    {
     "data": {
      "text/plain": [
       "array([[[[29, 45, 72],\n",
       "         [56, 25, 61],\n",
       "         [76, 33, 55]],\n",
       "\n",
       "        [[18, 14, 16],\n",
       "         [37, 64, 63],\n",
       "         [77, 97, 98]]],\n",
       "\n",
       "\n",
       "       [[[53, 85, 54],\n",
       "         [28, 48,  0],\n",
       "         [35, 72,  7]],\n",
       "\n",
       "        [[47, 43, 82],\n",
       "         [78, 90, 84],\n",
       "         [59, 41, 50]]]])"
      ]
     },
     "execution_count": 4,
     "metadata": {},
     "output_type": "execute_result"
    }
   ],
   "source": [
    "n11 = np.random.randint(100,size=(2, 2, 3, 3))\n",
    "n11\n"
   ]
  },
  {
   "cell_type": "code",
   "execution_count": 5,
   "metadata": {},
   "outputs": [
    {
     "data": {
      "text/plain": [
       "array([[[38, 18, 37, 97, 59],\n",
       "        [30, 57, 90, 41, 23],\n",
       "        [63, 42, 27, 64, 61],\n",
       "        [67, 87, 82, 38, 93]],\n",
       "\n",
       "       [[35, 27, 26, 68, 56],\n",
       "        [ 5, 22, 13, 73, 41],\n",
       "        [97, 19,  6, 61, 11],\n",
       "        [90, 71, 80, 41, 14]],\n",
       "\n",
       "       [[48,  6, 39, 27, 99],\n",
       "        [56,  0, 83, 91, 39],\n",
       "        [89, 25, 56, 53, 15],\n",
       "        [59, 70, 14, 21, 42]]])"
      ]
     },
     "execution_count": 5,
     "metadata": {},
     "output_type": "execute_result"
    }
   ],
   "source": [
    "n3 = np.random.randint(100, size=(3,4,5))\n",
    "n3"
   ]
  },
  {
   "cell_type": "code",
   "execution_count": 2,
   "metadata": {},
   "outputs": [],
   "source": [
    "import numpy as np"
   ]
  },
  {
   "cell_type": "code",
   "execution_count": null,
   "metadata": {},
   "outputs": [],
   "source": []
  },
  {
   "cell_type": "markdown",
   "metadata": {},
   "source": [
    "## 12、给定数组[1, 2, 3, 4, 5]，如何得到在这个数组的每个元素之间插入3个0后的新数组？"
   ]
  },
  {
   "cell_type": "code",
   "execution_count": 219,
   "metadata": {},
   "outputs": [
    {
     "data": {
      "text/plain": [
       "array([1, 0, 0, 0, 2, 0, 0, 0, 3, 0, 0, 0, 4, 0, 0, 0, 5, 0, 0, 0])"
      ]
     },
     "execution_count": 219,
     "metadata": {},
     "output_type": "execute_result"
    }
   ],
   "source": [
    "n12 = np.arange(1,6)\n",
    "n12 = np.vstack(n12)\n",
    "n121 = np.zeros(shape=(5,3),dtype=np.int)\n",
    "n12 = np.hstack((n12,n121))\n",
    "n12.reshape(20)"
   ]
  },
  {
   "cell_type": "markdown",
   "metadata": {},
   "source": [
    "## 13、给定一个二维矩阵，如何交换其中两行的元素？"
   ]
  },
  {
   "cell_type": "code",
   "execution_count": 121,
   "metadata": {},
   "outputs": [
    {
     "data": {
      "text/plain": [
       "array([[73, 30, 39, 29, 81],\n",
       "       [ 5, 33, 59, 19, 83],\n",
       "       [85, 42, 67, 48,  7],\n",
       "       [15, 41,  1, 86, 45],\n",
       "       [52, 56, 72, 37, 27]])"
      ]
     },
     "execution_count": 121,
     "metadata": {},
     "output_type": "execute_result"
    }
   ],
   "source": [
    "n13 = np.random.randint(100,size=(5,5))\n",
    "n13"
   ]
  },
  {
   "cell_type": "code",
   "execution_count": 122,
   "metadata": {},
   "outputs": [
    {
     "data": {
      "text/plain": [
       "array([[73, 30, 39, 29, 81],\n",
       "       [15, 41,  1, 86, 45],\n",
       "       [85, 42, 67, 48,  7],\n",
       "       [ 5, 33, 59, 19, 83],\n",
       "       [52, 56, 72, 37, 27]])"
      ]
     },
     "execution_count": 122,
     "metadata": {},
     "output_type": "execute_result"
    }
   ],
   "source": [
    "n13[[0,3,2,1,4]]"
   ]
  },
  {
   "cell_type": "markdown",
   "metadata": {},
   "source": [
    "## 14、创建一个100000长度的随机数组，使用两种方法对其求三次方，并比较所用时间"
   ]
  },
  {
   "cell_type": "code",
   "execution_count": 195,
   "metadata": {},
   "outputs": [
    {
     "name": "stdout",
     "output_type": "stream",
     "text": [
      "Wall time: 997 µs\n"
     ]
    },
    {
     "data": {
      "text/plain": [
       "array([ 42875,   1000,      0, ..., 778688,  97336, 300763], dtype=int32)"
      ]
     },
     "execution_count": 195,
     "metadata": {},
     "output_type": "execute_result"
    }
   ],
   "source": [
    "%time n14 = np.random.randint(100,size=100000)\n",
    "n14**3 "
   ]
  },
  {
   "cell_type": "code",
   "execution_count": 196,
   "metadata": {},
   "outputs": [
    {
     "name": "stdout",
     "output_type": "stream",
     "text": [
      "Wall time: 1 ms\n"
     ]
    },
    {
     "data": {
      "text/plain": [
       "array([ 42875,   1000,      0, ..., 778688,  97336, 300763])"
      ]
     },
     "execution_count": 196,
     "metadata": {},
     "output_type": "execute_result"
    }
   ],
   "source": [
    "%time n14 = np.array(n14*n14*n14)\n",
    "n14"
   ]
  },
  {
   "cell_type": "markdown",
   "metadata": {},
   "source": [
    "## 15、创建一个5\\*3随机矩阵和一个3\\*2随机矩阵，求矩阵积"
   ]
  },
  {
   "cell_type": "code",
   "execution_count": 133,
   "metadata": {},
   "outputs": [
    {
     "data": {
      "text/plain": [
       "array([[ 9, 13,  7],\n",
       "       [84, 57, 51],\n",
       "       [70,  5, 16],\n",
       "       [88,  1, 52],\n",
       "       [79, 20, 37]])"
      ]
     },
     "execution_count": 133,
     "metadata": {},
     "output_type": "execute_result"
    }
   ],
   "source": [
    "n151 = np.random.randint(100, size=(5,3))\n",
    "n151"
   ]
  },
  {
   "cell_type": "code",
   "execution_count": 135,
   "metadata": {},
   "outputs": [
    {
     "data": {
      "text/plain": [
       "array([[85, 99],\n",
       "       [92, 17],\n",
       "       [69,  0]])"
      ]
     },
     "execution_count": 135,
     "metadata": {},
     "output_type": "execute_result"
    }
   ],
   "source": [
    "n152 = np.random.randint(100, size=(3,2))\n",
    "n152"
   ]
  },
  {
   "cell_type": "code",
   "execution_count": 136,
   "metadata": {},
   "outputs": [
    {
     "data": {
      "text/plain": [
       "array([[ 2444,  1112],\n",
       "       [15903,  9285],\n",
       "       [ 7514,  7015],\n",
       "       [11160,  8729],\n",
       "       [11108,  8161]])"
      ]
     },
     "execution_count": 136,
     "metadata": {},
     "output_type": "execute_result"
    }
   ],
   "source": [
    "n15 = np.dot(n151,n152)\n",
    "n15"
   ]
  },
  {
   "cell_type": "markdown",
   "metadata": {},
   "source": [
    "## 16、矩阵的每一行的元素都减去该行的平均值"
   ]
  },
  {
   "cell_type": "code",
   "execution_count": 138,
   "metadata": {},
   "outputs": [
    {
     "data": {
      "text/plain": [
       "array([[10, 23,  7, 24, 40],\n",
       "       [33, 93, 82, 87, 12],\n",
       "       [72, 99, 45, 43, 58],\n",
       "       [70, 98, 76, 44, 88],\n",
       "       [23, 38, 95, 59, 76]])"
      ]
     },
     "execution_count": 138,
     "metadata": {},
     "output_type": "execute_result"
    }
   ],
   "source": [
    "n16 = np.random.randint(100, size=(5,5))\n",
    "n16"
   ]
  },
  {
   "cell_type": "code",
   "execution_count": 180,
   "metadata": {},
   "outputs": [
    {
     "data": {
      "text/plain": [
       "array([[-10.8,   2.2, -13.8,   3.2,  19.2],\n",
       "       [-28.4,  31.6,  20.6,  25.6, -49.4],\n",
       "       [  8.6,  35.6, -18.4, -20.4,  -5.4],\n",
       "       [ -5.2,  22.8,   0.8, -31.2,  12.8],\n",
       "       [-35.2, -20.2,  36.8,   0.8,  17.8]])"
      ]
     },
     "execution_count": 180,
     "metadata": {},
     "output_type": "execute_result"
    }
   ],
   "source": [
    "n161 = np.mean(n16, axis=1)\n",
    "n16 - np.vstack(n161)"
   ]
  },
  {
   "cell_type": "markdown",
   "metadata": {},
   "source": [
    "## 17、打印出以下函数（要求使用np.zeros创建8*8的矩阵）：\n",
    "'''\n",
    "[[0 1 0 1 0 1 0 1]\n",
    " [1 0 1 0 1 0 1 0]\n",
    " [0 1 0 1 0 1 0 1]\n",
    " [1 0 1 0 1 0 1 0]\n",
    " [0 1 0 1 0 1 0 1]\n",
    " [1 0 1 0 1 0 1 0]\n",
    " [0 1 0 1 0 1 0 1]\n",
    " [1 0 1 0 1 0 1 0]]\n",
    "'''\n"
   ]
  },
  {
   "cell_type": "code",
   "execution_count": 188,
   "metadata": {},
   "outputs": [
    {
     "data": {
      "text/plain": [
       "array([[0, 1, 0, 1, 0, 1, 0, 1],\n",
       "       [1, 0, 1, 0, 1, 0, 1, 0],\n",
       "       [0, 1, 0, 1, 0, 1, 0, 1],\n",
       "       [1, 0, 1, 0, 1, 0, 1, 0],\n",
       "       [0, 1, 0, 1, 0, 1, 0, 1],\n",
       "       [1, 0, 1, 0, 1, 0, 1, 0],\n",
       "       [0, 1, 0, 1, 0, 1, 0, 1],\n",
       "       [1, 0, 1, 0, 1, 0, 1, 0]])"
      ]
     },
     "execution_count": 188,
     "metadata": {},
     "output_type": "execute_result"
    }
   ],
   "source": [
    "n17 = np.zeros(shape=(8,8),dtype=np.int)\n",
    "n17[1::2,::2] = 1\n",
    "n17[::2,1::2] = 1\n",
    "n17"
   ]
  },
  {
   "cell_type": "markdown",
   "metadata": {},
   "source": [
    "## 18、正则化一个5*5随机矩阵\n",
    "## 正则的概念：假设a是矩阵中的一个元素，max/min分别是矩阵元素的最大最小值，则正则化后a = (a - min)/(max - min)"
   ]
  },
  {
   "cell_type": "code",
   "execution_count": 192,
   "metadata": {},
   "outputs": [
    {
     "data": {
      "text/plain": [
       "array([[0.11340206, 0.        , 0.72164948, 0.92783505, 0.40206186],\n",
       "       [0.12371134, 0.53608247, 0.81443299, 0.34020619, 0.55670103],\n",
       "       [0.80412371, 0.82474227, 0.12371134, 0.68041237, 0.72164948],\n",
       "       [0.36082474, 0.92783505, 0.02061856, 0.88659794, 0.27835052],\n",
       "       [0.42268041, 0.08247423, 1.        , 0.80412371, 0.68041237]])"
      ]
     },
     "execution_count": 192,
     "metadata": {},
     "output_type": "execute_result"
    }
   ],
   "source": [
    "n18 = np.random.randint(100, size=(5,5))\n",
    "nmax = n18.max()\n",
    "nmin = n18.min()\n",
    "n18 = (n18-nmin)/(nmax-nmin)\n",
    "n18"
   ]
  }
 ],
 "metadata": {
  "kernelspec": {
   "display_name": "Python 3",
   "language": "python",
   "name": "python3"
  },
  "language_info": {
   "codemirror_mode": {
    "name": "ipython",
    "version": 3
   },
   "file_extension": ".py",
   "mimetype": "text/x-python",
   "name": "python",
   "nbconvert_exporter": "python",
   "pygments_lexer": "ipython3",
   "version": "3.6.5"
  }
 },
 "nbformat": 4,
 "nbformat_minor": 2
}
