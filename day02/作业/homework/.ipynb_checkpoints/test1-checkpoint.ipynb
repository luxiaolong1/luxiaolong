{
 "cells": [
  {
   "cell_type": "code",
   "execution_count": 2,
   "metadata": {},
   "outputs": [],
   "source": [
    "import numpy as np"
   ]
  },
  {
   "cell_type": "markdown",
   "metadata": {},
   "source": [
    "### 1、创建一个长度为10的一维全为0的ndarray对象，然后让第5个元素等于1"
   ]
  },
  {
   "cell_type": "code",
   "execution_count": 3,
   "metadata": {},
   "outputs": [
    {
     "data": {
      "text/plain": [
       "array([0, 0, 0, 0, 1, 0, 0, 0, 0, 0])"
      ]
     },
     "execution_count": 3,
     "metadata": {},
     "output_type": "execute_result"
    }
   ],
   "source": [
    "n = np.zeros(shape=10,dtype=np.int)\n",
    "n[4] = 1\n",
    "n"
   ]
  },
  {
   "cell_type": "markdown",
   "metadata": {},
   "source": [
    "### 2、创建一个元素为从10到49的ndarray对象"
   ]
  },
  {
   "cell_type": "code",
   "execution_count": 4,
   "metadata": {},
   "outputs": [
    {
     "data": {
      "text/plain": [
       "array([10, 11, 12, 13, 14, 15, 16, 17, 18, 19, 20, 21, 22, 23, 24, 25, 26,\n",
       "       27, 28, 29, 30, 31, 32, 33, 34, 35, 36, 37, 38, 39, 40, 41, 42, 43,\n",
       "       44, 45, 46, 47, 48, 49])"
      ]
     },
     "execution_count": 4,
     "metadata": {},
     "output_type": "execute_result"
    }
   ],
   "source": [
    "n = np.arange(10,50)\n",
    "n"
   ]
  },
  {
   "cell_type": "markdown",
   "metadata": {},
   "source": [
    "### 3、将第2题的所有元素位置反转"
   ]
  },
  {
   "cell_type": "code",
   "execution_count": 5,
   "metadata": {},
   "outputs": [
    {
     "data": {
      "text/plain": [
       "array([49, 48, 47, 46, 45, 44, 43, 42, 41, 40, 39, 38, 37, 36, 35, 34, 33,\n",
       "       32, 31, 30, 29, 28, 27, 26, 25, 24, 23, 22, 21, 20, 19, 18, 17, 16,\n",
       "       15, 14, 13, 12, 11, 10])"
      ]
     },
     "execution_count": 5,
     "metadata": {},
     "output_type": "execute_result"
    }
   ],
   "source": [
    "n[::-1]"
   ]
  },
  {
   "cell_type": "markdown",
   "metadata": {},
   "source": [
    "### 4、使用np.random.random创建一个10*10的ndarray对象，并打印出最大最小元素"
   ]
  },
  {
   "cell_type": "code",
   "execution_count": 11,
   "metadata": {},
   "outputs": [
    {
     "data": {
      "text/plain": [
       "array([[0.37687587, 0.22602229, 0.0142071 , 0.8885712 , 0.38558278,\n",
       "        0.2674594 , 0.36137626, 0.07303933, 0.57495737, 0.2511884 ],\n",
       "       [0.98861334, 0.62980526, 0.62083882, 0.8237338 , 0.42557947,\n",
       "        0.02274615, 0.14115958, 0.24341632, 0.45288386, 0.61048264],\n",
       "       [0.02394946, 0.97902729, 0.53170157, 0.55935505, 0.48391504,\n",
       "        0.08303269, 0.84143984, 0.16147543, 0.62663319, 0.29403002],\n",
       "       [0.32857155, 0.52151792, 0.53274333, 0.88147533, 0.46656184,\n",
       "        0.13308091, 0.4258518 , 0.13338265, 0.39329899, 0.47345628],\n",
       "       [0.85998485, 0.92450473, 0.8208888 , 0.3931699 , 0.08474111,\n",
       "        0.00556788, 0.2053596 , 0.67157177, 0.22994214, 0.63939817],\n",
       "       [0.1485342 , 0.49920249, 0.41866366, 0.15300345, 0.9930092 ,\n",
       "        0.80033378, 0.06608209, 0.53467253, 0.84995232, 0.66959884],\n",
       "       [0.4609539 , 0.71707846, 0.5422077 , 0.65037579, 0.53784683,\n",
       "        0.55230293, 0.65510069, 0.55593154, 0.15319192, 0.11865862],\n",
       "       [0.18956471, 0.81198168, 0.48442723, 0.35913791, 0.31626055,\n",
       "        0.8431821 , 0.0339381 , 0.31566104, 0.19274364, 0.40974825],\n",
       "       [0.39185375, 0.67082142, 0.21676147, 0.6072295 , 0.75504436,\n",
       "        0.66307559, 0.63068641, 0.8378695 , 0.24075137, 0.01022303],\n",
       "       [0.1466561 , 0.15202786, 0.52474202, 0.40442666, 0.71112874,\n",
       "        0.67655105, 0.82093194, 0.21153423, 0.11747694, 0.8291433 ]])"
      ]
     },
     "metadata": {},
     "output_type": "display_data"
    },
    {
     "data": {
      "text/plain": [
       "'最大值:0.9930091957989889     最小值:0.005567875780927101'"
      ]
     },
     "metadata": {},
     "output_type": "display_data"
    }
   ],
   "source": [
    "n = np.random.random((10,10))\n",
    "display(n)\n",
    "n_max, n_min = n.max(), n.min()\n",
    "display(\"最大值:{}     最小值:{}\".format(n_max, n_min))"
   ]
  },
  {
   "cell_type": "markdown",
   "metadata": {},
   "source": [
    "### 5、创建一个10*10的ndarray对象，且矩阵边界全为1，里面全为0"
   ]
  },
  {
   "cell_type": "code",
   "execution_count": 43,
   "metadata": {},
   "outputs": [
    {
     "data": {
      "text/plain": [
       "array([[1, 1, 1, 1, 1, 1, 1, 1, 1, 1],\n",
       "       [1, 1, 1, 1, 1, 1, 1, 1, 1, 1],\n",
       "       [1, 1, 1, 1, 1, 1, 1, 1, 1, 1],\n",
       "       [1, 1, 1, 1, 1, 1, 1, 1, 1, 1],\n",
       "       [1, 1, 1, 1, 1, 1, 1, 1, 1, 1],\n",
       "       [1, 1, 1, 1, 1, 1, 1, 1, 1, 1],\n",
       "       [1, 1, 1, 1, 1, 1, 1, 1, 1, 1],\n",
       "       [1, 1, 1, 1, 1, 1, 1, 1, 1, 1],\n",
       "       [1, 1, 1, 1, 1, 1, 1, 1, 1, 1],\n",
       "       [1, 1, 1, 1, 1, 1, 1, 1, 1, 1]])"
      ]
     },
     "metadata": {},
     "output_type": "display_data"
    },
    {
     "data": {
      "text/plain": [
       "array([[1, 1, 1, 1, 1, 1, 1, 1, 1, 1],\n",
       "       [1, 0, 0, 0, 0, 0, 0, 0, 0, 1],\n",
       "       [1, 0, 0, 0, 0, 0, 0, 0, 0, 1],\n",
       "       [1, 0, 0, 0, 0, 0, 0, 0, 0, 1],\n",
       "       [1, 0, 0, 0, 0, 0, 0, 0, 0, 1],\n",
       "       [1, 0, 0, 0, 0, 0, 0, 0, 0, 1],\n",
       "       [1, 0, 0, 0, 0, 0, 0, 0, 0, 1],\n",
       "       [1, 0, 0, 0, 0, 0, 0, 0, 0, 1],\n",
       "       [1, 0, 0, 0, 0, 0, 0, 0, 0, 1],\n",
       "       [1, 1, 1, 1, 1, 1, 1, 1, 1, 1]])"
      ]
     },
     "metadata": {},
     "output_type": "display_data"
    }
   ],
   "source": [
    "n = np.ones((10,10),np.int)\n",
    "display(n)\n",
    "n[1:-1,1:-1] = 0\n",
    "display(n)"
   ]
  },
  {
   "cell_type": "markdown",
   "metadata": {},
   "source": [
    "### 6、创建一个每一行都是从0到4的5*5矩阵"
   ]
  },
  {
   "cell_type": "code",
   "execution_count": 48,
   "metadata": {},
   "outputs": [
    {
     "data": {
      "text/plain": [
       "array([[ 0,  1,  2,  3,  4],\n",
       "       [ 5,  6,  7,  8,  9],\n",
       "       [10, 11, 12, 13, 14],\n",
       "       [15, 16, 17, 18, 19],\n",
       "       [20, 21, 22, 23, 24]])"
      ]
     },
     "metadata": {},
     "output_type": "display_data"
    },
    {
     "data": {
      "text/plain": [
       "array([[0, 1, 2, 3, 4],\n",
       "       [0, 1, 2, 3, 4],\n",
       "       [0, 1, 2, 3, 4],\n",
       "       [0, 1, 2, 3, 4],\n",
       "       [0, 1, 2, 3, 4]])"
      ]
     },
     "metadata": {},
     "output_type": "display_data"
    }
   ],
   "source": [
    "n = np.arange(25).reshape(5,5)\n",
    "display(n)\n",
    "n[1:] = n[0]\n",
    "display(n)"
   ]
  },
  {
   "cell_type": "markdown",
   "metadata": {},
   "source": [
    "### 7、创建一个范围在(0,1)之间的长度为12的等差数列"
   ]
  },
  {
   "cell_type": "code",
   "execution_count": 51,
   "metadata": {},
   "outputs": [
    {
     "data": {
      "text/plain": [
       "array([0.        , 0.09090909, 0.18181818, 0.27272727, 0.36363636,\n",
       "       0.45454545, 0.54545455, 0.63636364, 0.72727273, 0.81818182,\n",
       "       0.90909091, 1.        ])"
      ]
     },
     "metadata": {},
     "output_type": "display_data"
    }
   ],
   "source": [
    "a = np.linspace(0,1,12)\n",
    "display(a)"
   ]
  },
  {
   "cell_type": "markdown",
   "metadata": {},
   "source": [
    "### 8、创建一个长度为10的随机数组并排序"
   ]
  },
  {
   "cell_type": "code",
   "execution_count": 57,
   "metadata": {},
   "outputs": [
    {
     "data": {
      "text/plain": [
       "array([0.0790765 , 0.11197034, 0.17178006, 0.1959735 , 0.25535923,\n",
       "       0.33610182, 0.3805283 , 0.49515156, 0.56535514, 0.60719485])"
      ]
     },
     "execution_count": 57,
     "metadata": {},
     "output_type": "execute_result"
    }
   ],
   "source": [
    "n = np.random.random(10)\n",
    "n.sort()  # np.sort(n)\n",
    "n"
   ]
  },
  {
   "cell_type": "markdown",
   "metadata": {},
   "source": [
    "### 9、创建一个长度为10的随机数组并将最大值替换为0"
   ]
  },
  {
   "cell_type": "code",
   "execution_count": 64,
   "metadata": {},
   "outputs": [
    {
     "data": {
      "text/plain": [
       "array([7, 6, 9, 1, 0, 5, 7, 1, 6, 1])"
      ]
     },
     "metadata": {},
     "output_type": "display_data"
    },
    {
     "data": {
      "text/plain": [
       "array([7, 6, 0, 1, 0, 5, 7, 1, 6, 1])"
      ]
     },
     "metadata": {},
     "output_type": "display_data"
    }
   ],
   "source": [
    "n = np.random.randint(10,size=10)\n",
    "display(n)\n",
    "n[n.argmax()] = 0\n",
    "display(n)"
   ]
  },
  {
   "cell_type": "markdown",
   "metadata": {},
   "source": [
    "### 10、如何根据第3列来对一个5*5矩阵排序？"
   ]
  },
  {
   "cell_type": "code",
   "execution_count": 76,
   "metadata": {},
   "outputs": [
    {
     "data": {
      "text/plain": [
       "array([[98, 29, 38,  3, 95],\n",
       "       [43, 89,  4, 34, 86],\n",
       "       [93, 78, 85, 76,  2],\n",
       "       [33, 20, 44, 86,  3],\n",
       "       [ 6, 13, 16, 55, 23]])"
      ]
     },
     "metadata": {},
     "output_type": "display_data"
    },
    {
     "data": {
      "text/plain": [
       "array([[43, 89,  4, 34, 86],\n",
       "       [ 6, 13, 16, 55, 23],\n",
       "       [98, 29, 38,  3, 95],\n",
       "       [33, 20, 44, 86,  3],\n",
       "       [93, 78, 85, 76,  2]])"
      ]
     },
     "execution_count": 76,
     "metadata": {},
     "output_type": "execute_result"
    }
   ],
   "source": [
    "n = np.random.randint(100,size=(5,5))\n",
    "display(n)\n",
    "n = n[np.argsort(n[:,2])]\n",
    "n"
   ]
  },
  {
   "cell_type": "markdown",
   "metadata": {},
   "source": [
    "### 11、给定一个4维矩阵，如何得到最后两维的和？"
   ]
  },
  {
   "cell_type": "code",
   "execution_count": 95,
   "metadata": {},
   "outputs": [
    {
     "data": {
      "text/plain": [
       "array([[[[38, 25, 76],\n",
       "         [46, 58, 65],\n",
       "         [61, 49, 44]],\n",
       "\n",
       "        [[57, 25, 38],\n",
       "         [21, 22, 38],\n",
       "         [55, 55, 42]],\n",
       "\n",
       "        [[20,  0, 48],\n",
       "         [66, 74,  2],\n",
       "         [ 4, 37, 68]],\n",
       "\n",
       "        [[71, 31, 35],\n",
       "         [ 0,  7, 44],\n",
       "         [66, 23, 24]]],\n",
       "\n",
       "\n",
       "       [[[56, 12, 50],\n",
       "         [61, 36, 67],\n",
       "         [71, 17, 42]],\n",
       "\n",
       "        [[69, 52, 12],\n",
       "         [ 8, 61, 23],\n",
       "         [25,  4, 74]],\n",
       "\n",
       "        [[13,  5, 67],\n",
       "         [20, 77, 33],\n",
       "         [28, 28, 62]],\n",
       "\n",
       "        [[28, 74, 44],\n",
       "         [40, 20, 67],\n",
       "         [21, 65, 11]]]])"
      ]
     },
     "metadata": {},
     "output_type": "display_data"
    },
    {
     "data": {
      "text/plain": [
       "array([[462, 353, 319, 301],\n",
       "       [412, 328, 333, 370]])"
      ]
     },
     "execution_count": 95,
     "metadata": {},
     "output_type": "execute_result"
    }
   ],
   "source": [
    "n = np.random.randint(80,size=(2,4,3,3))\n",
    "display(n)\n",
    "n.sum((-1,-2))"
   ]
  },
  {
   "cell_type": "markdown",
   "metadata": {},
   "source": [
    "### 12、给定数组[1, 2, 3, 4, 5]，如何得到在这个数组的每个元素之间插入3个0后的新数组？"
   ]
  },
  {
   "cell_type": "code",
   "execution_count": 100,
   "metadata": {},
   "outputs": [
    {
     "data": {
      "text/plain": [
       "array([[1, 0, 0, 0],\n",
       "       [2, 0, 0, 0],\n",
       "       [3, 0, 0, 0],\n",
       "       [4, 0, 0, 0],\n",
       "       [5, 0, 0, 0]])"
      ]
     },
     "execution_count": 100,
     "metadata": {},
     "output_type": "execute_result"
    }
   ],
   "source": [
    "a = np.array([1, 2, 3, 4, 5]).reshape(5,1)\n",
    "zero = np.zeros((5,3),np.int)\n",
    "np.hstack((a,zero))   # 使用水平级联"
   ]
  },
  {
   "cell_type": "markdown",
   "metadata": {},
   "source": [
    "### 13、给定一个二维矩阵，如何交换其中两行的元素？"
   ]
  },
  {
   "cell_type": "code",
   "execution_count": 104,
   "metadata": {},
   "outputs": [
    {
     "data": {
      "text/plain": [
       "array([[85, 96, 38, 77, 91],\n",
       "       [10, 43, 41, 21, 72],\n",
       "       [34, 99, 42, 55, 94],\n",
       "       [ 7, 77, 39, 89, 19],\n",
       "       [89, 83, 31, 92, 57]])"
      ]
     },
     "metadata": {},
     "output_type": "display_data"
    },
    {
     "data": {
      "text/plain": [
       "array([[34, 99, 42, 55, 94],\n",
       "       [10, 43, 41, 21, 72],\n",
       "       [85, 96, 38, 77, 91],\n",
       "       [ 7, 77, 39, 89, 19],\n",
       "       [89, 83, 31, 92, 57]])"
      ]
     },
     "execution_count": 104,
     "metadata": {},
     "output_type": "execute_result"
    }
   ],
   "source": [
    "n = np.random.randint(100,size=(5,5))\n",
    "display(n)\n",
    "n[[2,1,0,3,4]]"
   ]
  },
  {
   "cell_type": "markdown",
   "metadata": {},
   "source": [
    "### 14、创建一个100000长度的随机数组，使用两种方法对其求三次方，并比较所用时间"
   ]
  },
  {
   "cell_type": "code",
   "execution_count": 108,
   "metadata": {},
   "outputs": [
    {
     "data": {
      "text/plain": [
       "array([78216,   996, 51506, ..., 50690, 51382,  1555])"
      ]
     },
     "metadata": {},
     "output_type": "display_data"
    },
    {
     "name": "stdout",
     "output_type": "stream",
     "text": [
      "Wall time: 1e+03 µs\n",
      "Wall time: 1 ms\n"
     ]
    },
    {
     "data": {
      "text/plain": [
       "array([-1241832960,   988047936, -1468492728, ...,  1860257800,\n",
       "        1881038104,  -534938421], dtype=int32)"
      ]
     },
     "execution_count": 108,
     "metadata": {},
     "output_type": "execute_result"
    }
   ],
   "source": [
    "n = np.random.randint(100000,size=(100000))\n",
    "display(n)\n",
    "%time np.power(n,3)\n",
    "%time n**3"
   ]
  },
  {
   "cell_type": "markdown",
   "metadata": {},
   "source": [
    "### 15、创建一个5*3随机矩阵和一个3*2随机矩阵，求矩阵积"
   ]
  },
  {
   "cell_type": "code",
   "execution_count": 114,
   "metadata": {},
   "outputs": [
    {
     "data": {
      "text/plain": [
       "array([[19, 69, 73],\n",
       "       [ 2, 35, 15],\n",
       "       [77, 98, 80],\n",
       "       [76, 16,  4],\n",
       "       [49, 62, 49]])"
      ]
     },
     "metadata": {},
     "output_type": "display_data"
    },
    {
     "data": {
      "text/plain": [
       "array([[ 5, 79],\n",
       "       [ 0, 56],\n",
       "       [58, 99]])"
      ]
     },
     "metadata": {},
     "output_type": "display_data"
    },
    {
     "data": {
      "text/plain": [
       "array([[ 4329, 12592],\n",
       "       [  880,  3603],\n",
       "       [ 5025, 19491],\n",
       "       [  612,  7296],\n",
       "       [ 3087, 12194]])"
      ]
     },
     "execution_count": 114,
     "metadata": {},
     "output_type": "execute_result"
    }
   ],
   "source": [
    "n1 = np.random.randint(100,size=(5,3))\n",
    "n2 = np.random.randint(100,size=(3,2))\n",
    "display(n1, n2)\n",
    "np.dot(n1, n2)"
   ]
  },
  {
   "cell_type": "markdown",
   "metadata": {},
   "source": [
    "### 16、矩阵的每一行的元素都减去该行的平均值"
   ]
  },
  {
   "cell_type": "code",
   "execution_count": 124,
   "metadata": {},
   "outputs": [
    {
     "data": {
      "text/plain": [
       "array([[28, 59, 21, 38],\n",
       "       [79, 51,  6, 31],\n",
       "       [68, 38, 13, 63],\n",
       "       [25, 75, 67, 50]])"
      ]
     },
     "metadata": {},
     "output_type": "display_data"
    },
    {
     "data": {
      "text/plain": [
       "array([[36.5 ],\n",
       "       [41.75],\n",
       "       [45.5 ],\n",
       "       [54.25]])"
      ]
     },
     "metadata": {},
     "output_type": "display_data"
    },
    {
     "data": {
      "text/plain": [
       "array([[ -8.5 ,  22.5 , -15.5 ,   1.5 ],\n",
       "       [ 37.25,   9.25, -35.75, -10.75],\n",
       "       [ 22.5 ,  -7.5 , -32.5 ,  17.5 ],\n",
       "       [-29.25,  20.75,  12.75,  -4.25]])"
      ]
     },
     "execution_count": 124,
     "metadata": {},
     "output_type": "execute_result"
    }
   ],
   "source": [
    "n = np.random.randint(100,size=(4,4))\n",
    "display(n)\n",
    "n_mean = n.mean(1).reshape(4,1)\n",
    "display(n_mean)\n",
    "n - n_mean\n"
   ]
  },
  {
   "cell_type": "markdown",
   "metadata": {},
   "source": [
    "### 17、打印出以下函数（要求使用np.zeros创建8*8的矩阵）：\n",
    "```\n",
    " [[0 1 0 1 0 1 0 1]\n",
    " [1 0 1 0 1 0 1 0]\n",
    " [0 1 0 1 0 1 0 1]\n",
    " [1 0 1 0 1 0 1 0]\n",
    " [0 1 0 1 0 1 0 1]\n",
    " [1 0 1 0 1 0 1 0]\n",
    " [0 1 0 1 0 1 0 1]\n",
    " [1 0 1 0 1 0 1 0]]\n",
    " Z[1::2,::2] = 1\n",
    " Z[::2,1::2] = 1\n",
    "```"
   ]
  },
  {
   "cell_type": "code",
   "execution_count": 130,
   "metadata": {},
   "outputs": [
    {
     "data": {
      "text/plain": [
       "array([[0, 1, 0, 1, 0, 1, 0, 1],\n",
       "       [1, 0, 1, 0, 1, 0, 1, 0],\n",
       "       [0, 1, 0, 1, 0, 1, 0, 1],\n",
       "       [1, 0, 1, 0, 1, 0, 1, 0],\n",
       "       [0, 1, 0, 1, 0, 1, 0, 1],\n",
       "       [1, 0, 1, 0, 1, 0, 1, 0],\n",
       "       [0, 1, 0, 1, 0, 1, 0, 1],\n",
       "       [1, 0, 1, 0, 1, 0, 1, 0]])"
      ]
     },
     "execution_count": 130,
     "metadata": {},
     "output_type": "execute_result"
    }
   ],
   "source": [
    "n = np.zeros((8,8),np.int)\n",
    "n[1::2,::2] = 1\n",
    "n[::2,1::2] = 1\n",
    "n"
   ]
  },
  {
   "cell_type": "markdown",
   "metadata": {},
   "source": [
    "### 18、正则化一个5*5随机矩阵\n",
    "      正则的概念：假设a是矩阵中的一个元素，max/min分别是矩阵元素的最大最小值，则正则化后a = (a - min)/(max - min)"
   ]
  },
  {
   "cell_type": "code",
   "execution_count": 4,
   "metadata": {},
   "outputs": [
    {
     "data": {
      "text/plain": [
       "array([[64, 28,  4, 50, 24],\n",
       "       [49, 36, 15, 81, 92],\n",
       "       [52, 13, 50,  5, 75],\n",
       "       [78, 34, 41, 74, 25],\n",
       "       [11, 68,  6, 25, 56]])"
      ]
     },
     "metadata": {},
     "output_type": "display_data"
    },
    {
     "data": {
      "text/plain": [
       "array([[0.68181818, 0.27272727, 0.        , 0.52272727, 0.22727273],\n",
       "       [0.51136364, 0.36363636, 0.125     , 0.875     , 1.        ],\n",
       "       [0.54545455, 0.10227273, 0.52272727, 0.01136364, 0.80681818],\n",
       "       [0.84090909, 0.34090909, 0.42045455, 0.79545455, 0.23863636],\n",
       "       [0.07954545, 0.72727273, 0.02272727, 0.23863636, 0.59090909]])"
      ]
     },
     "execution_count": 4,
     "metadata": {},
     "output_type": "execute_result"
    }
   ],
   "source": [
    "n = np.random.randint(100,size=(5,5))\n",
    "display(n)\n",
    "n = (n - n.min())/(n.max() - n.min())\n",
    "n"
   ]
  },
  {
   "cell_type": "markdown",
   "metadata": {},
   "source": [
    "### 19、将一个一维数组转化为二进制表示矩阵。例如\n",
    "```\n",
    "[1,2,3]\n",
    "转化为\n",
    "[[0,0,1],\n",
    "[0,1,0],\n",
    "[0,1,1]]\n",
    "```"
   ]
  },
  {
   "cell_type": "code",
   "execution_count": null,
   "metadata": {},
   "outputs": [],
   "source": []
  },
  {
   "cell_type": "markdown",
   "metadata": {},
   "source": [
    "### 20、实现快速和选择排序法"
   ]
  },
  {
   "cell_type": "code",
   "execution_count": 8,
   "metadata": {},
   "outputs": [
    {
     "data": {
      "text/plain": [
       "array([ 1, 25, 31, 34, 36, 48, 53, 63, 66, 72])"
      ]
     },
     "metadata": {},
     "output_type": "display_data"
    }
   ],
   "source": [
    "# 选择排序\n",
    "def select_sort(n):\n",
    "    for i in range(len(n)-1):\n",
    "        index = n[i:].argmin() + i\n",
    "        if n[i] > n[index]:\n",
    "            n[i], n[index] = n[index], n[i]\n",
    "    return n\n",
    "\n",
    "n = np.random.randint(100, size=(10))\n",
    "result = select_sort(n)\n",
    "display(result)"
   ]
  },
  {
   "cell_type": "code",
   "execution_count": 18,
   "metadata": {},
   "outputs": [
    {
     "data": {
      "text/plain": [
       "array([37, 61, 46, 98, 67, 58, 49, 40,  0, 61])"
      ]
     },
     "metadata": {},
     "output_type": "display_data"
    },
    {
     "data": {
      "text/plain": [
       "array([ 0, 37, 40, 46, 49, 58, 61, 61, 67, 98])"
      ]
     },
     "metadata": {},
     "output_type": "display_data"
    }
   ],
   "source": [
    "# 快速排序\n",
    "n = np.random.randint(100, size=(10))\n",
    "display(n)\n",
    "n.sort()\n",
    "display(n)"
   ]
  }
 ],
 "metadata": {
  "kernelspec": {
   "display_name": "Python 3",
   "language": "python",
   "name": "python3"
  },
  "language_info": {
   "codemirror_mode": {
    "name": "ipython",
    "version": 3
   },
   "file_extension": ".py",
   "mimetype": "text/x-python",
   "name": "python",
   "nbconvert_exporter": "python",
   "pygments_lexer": "ipython3",
   "version": "3.7.1"
  }
 },
 "nbformat": 4,
 "nbformat_minor": 2
}
