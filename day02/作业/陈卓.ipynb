{
 "cells": [
  {
   "cell_type": "code",
   "execution_count": 17,
   "metadata": {},
   "outputs": [],
   "source": [
    "import numpy as np"
   ]
  },
  {
   "cell_type": "markdown",
   "metadata": {},
   "source": [
    "### 1、创建一个长度为10的一维全为0的ndarray对象，然后让第5个元素等于1"
   ]
  },
  {
   "cell_type": "code",
   "execution_count": 4,
   "metadata": {},
   "outputs": [
    {
     "data": {
      "text/plain": [
       "array([0, 0, 0, 0, 0, 0, 0, 0, 0, 0])"
      ]
     },
     "execution_count": 4,
     "metadata": {},
     "output_type": "execute_result"
    }
   ],
   "source": [
    "np.zeros(10,dtype=int)"
   ]
  },
  {
   "cell_type": "markdown",
   "metadata": {},
   "source": [
    "### 2 、创建一个元素为从10到49的ndarray对象"
   ]
  },
  {
   "cell_type": "code",
   "execution_count": 30,
   "metadata": {},
   "outputs": [
    {
     "data": {
      "text/plain": [
       "array([10, 11, 12, 13, 14, 15, 16, 17, 18, 19, 20, 21, 22, 23, 24, 25, 26,\n",
       "       27, 28, 29, 30, 31, 32, 33, 34, 35, 36, 37, 38, 39, 40, 41, 42, 43,\n",
       "       44, 45, 46, 47, 48, 49])"
      ]
     },
     "execution_count": 30,
     "metadata": {},
     "output_type": "execute_result"
    }
   ],
   "source": [
    "n = np.linspace(10,49, num=40,dtype=int)\n",
    "n"
   ]
  },
  {
   "cell_type": "code",
   "execution_count": 19,
   "metadata": {},
   "outputs": [
    {
     "data": {
      "text/plain": [
       "array([10, 11, 12, 13, 14, 15, 16, 17, 18, 19, 20, 21, 22, 23, 24, 25, 26,\n",
       "       27, 28, 29, 30, 31, 32, 33, 34, 35, 36, 37, 38, 39, 40, 41, 42, 43,\n",
       "       44, 45, 46, 47, 48])"
      ]
     },
     "execution_count": 19,
     "metadata": {},
     "output_type": "execute_result"
    }
   ],
   "source": [
    "n_1 = np.arange(10,49,step=1)\n",
    "n_1"
   ]
  },
  {
   "cell_type": "markdown",
   "metadata": {},
   "source": [
    "### 3、将第2题的所有元素位置反转"
   ]
  },
  {
   "cell_type": "code",
   "execution_count": 32,
   "metadata": {},
   "outputs": [
    {
     "data": {
      "text/plain": [
       "array([49, 48, 47, 46, 45, 44, 43, 42, 41, 40, 39, 38, 37, 36, 35, 34, 33,\n",
       "       32, 31, 30, 29, 28, 27, 26, 25, 24, 23, 22, 21, 20, 19, 18, 17, 16,\n",
       "       15, 14, 13, 12, 11, 10])"
      ]
     },
     "execution_count": 32,
     "metadata": {},
     "output_type": "execute_result"
    }
   ],
   "source": [
    "n[::-1]"
   ]
  },
  {
   "cell_type": "markdown",
   "metadata": {},
   "source": [
    " ### 4、使用np.random.random创建一个10*10的ndarray对象，并打印出最大最小元素"
   ]
  },
  {
   "cell_type": "code",
   "execution_count": 80,
   "metadata": {},
   "outputs": [
    {
     "data": {
      "text/plain": [
       "array([[0.71769832, 0.12932991, 0.2672246 , 0.60342953, 0.79739021,\n",
       "        0.65536334, 0.66728505, 0.67335406, 0.8674863 , 0.94853227],\n",
       "       [0.9226124 , 0.25759259, 0.13939224, 0.78189612, 0.20166852,\n",
       "        0.36358539, 0.2775446 , 0.71036059, 0.59071024, 0.97513306],\n",
       "       [0.07608886, 0.32190662, 0.56265576, 0.06971122, 0.73351695,\n",
       "        0.60883032, 0.00882983, 0.76665265, 0.74983496, 0.6804166 ],\n",
       "       [0.54420415, 0.58295758, 0.23353655, 0.29734029, 0.63941172,\n",
       "        0.76108688, 0.95220767, 0.74640326, 0.48669383, 0.2576354 ],\n",
       "       [0.90449054, 0.52717664, 0.95623812, 0.40839777, 0.04357244,\n",
       "        0.31195505, 0.91068701, 0.43034342, 0.65000712, 0.91662221],\n",
       "       [0.42839483, 0.45152303, 0.19375547, 0.93363526, 0.88229688,\n",
       "        0.89802965, 0.98806807, 0.89415829, 0.19800144, 0.40832565],\n",
       "       [0.5038171 , 0.33452981, 0.66855818, 0.75094136, 0.6283322 ,\n",
       "        0.09345177, 0.22466044, 0.20748054, 0.42142223, 0.41067341],\n",
       "       [0.30035978, 0.64064248, 0.45250447, 0.86386266, 0.20791624,\n",
       "        0.72640926, 0.00825119, 0.06424286, 0.07097533, 0.18191093],\n",
       "       [0.03826601, 0.69883595, 0.14575445, 0.73975657, 0.07090377,\n",
       "        0.96033579, 0.4811822 , 0.7191306 , 0.03397498, 0.24099044],\n",
       "       [0.77198865, 0.95521436, 0.04647182, 0.87085067, 0.72379597,\n",
       "        0.76759291, 0.61283038, 0.93586671, 0.19706174, 0.2371721 ]])"
      ]
     },
     "execution_count": 80,
     "metadata": {},
     "output_type": "execute_result"
    }
   ],
   "source": [
    "n4_1 = np.random.random((10,10))\n",
    "\n",
    "\n",
    "n4_1"
   ]
  },
  {
   "cell_type": "code",
   "execution_count": 50,
   "metadata": {},
   "outputs": [
    {
     "data": {
      "text/plain": [
       "array([0.80054987, 0.52707889, 0.60248158, 0.49660027, 0.34984057,\n",
       "       0.86777915, 0.12242425, 0.10661558, 0.62638158, 0.4490219 ])"
      ]
     },
     "execution_count": 50,
     "metadata": {},
     "output_type": "execute_result"
    }
   ],
   "source": [
    "np.random.random(10)"
   ]
  },
  {
   "cell_type": "markdown",
   "metadata": {},
   "source": [
    "### 5、创建一个10*10的ndarray对象，且矩阵边界全为1，里面全为0"
   ]
  },
  {
   "cell_type": "code",
   "execution_count": 76,
   "metadata": {},
   "outputs": [
    {
     "data": {
      "text/plain": [
       "array([[1, 1, 1, 1, 1, 1, 1, 1, 1, 1],\n",
       "       [1, 0, 0, 0, 0, 0, 0, 0, 0, 1],\n",
       "       [1, 0, 0, 0, 0, 0, 0, 0, 0, 1],\n",
       "       [1, 0, 0, 0, 0, 0, 0, 0, 0, 1],\n",
       "       [1, 0, 0, 0, 0, 0, 0, 0, 0, 1],\n",
       "       [1, 0, 0, 0, 0, 0, 0, 0, 0, 1],\n",
       "       [1, 0, 0, 0, 0, 0, 0, 0, 0, 1],\n",
       "       [1, 0, 0, 0, 0, 0, 0, 0, 0, 1],\n",
       "       [1, 0, 0, 0, 0, 0, 0, 0, 0, 1],\n",
       "       [1, 1, 1, 1, 1, 1, 1, 1, 1, 1]])"
      ]
     },
     "execution_count": 76,
     "metadata": {},
     "output_type": "execute_result"
    }
   ],
   "source": [
    "\n",
    "n5 = np.ones((10,10,),dtype=int)\n",
    "n5[1:-1,1:-1]=0\n",
    "\n",
    "n5"
   ]
  },
  {
   "cell_type": "markdown",
   "metadata": {},
   "source": [
    "### 6、创建一个每一行都是从0到4的5*5矩阵"
   ]
  },
  {
   "cell_type": "code",
   "execution_count": 91,
   "metadata": {},
   "outputs": [
    {
     "data": {
      "text/plain": [
       "array([[0, 1, 2, 3, 4],\n",
       "       [0, 1, 2, 3, 4],\n",
       "       [0, 1, 2, 3, 4],\n",
       "       [0, 1, 2, 3, 4],\n",
       "       [0, 1, 2, 3, 4]])"
      ]
     },
     "execution_count": 91,
     "metadata": {},
     "output_type": "execute_result"
    }
   ],
   "source": [
    "n6 = np.zeros((5,5),dtype=int)\n",
    "n6[:,1:2]=1\n",
    "n6[:,2:3]=2\n",
    "n6[:,3:4]=3\n",
    "n6[:,4:]=4\n",
    "n6"
   ]
  },
  {
   "cell_type": "markdown",
   "metadata": {},
   "source": [
    "### 7、创建一个范围在(0,1)之间的长度为12的等差数列"
   ]
  },
  {
   "cell_type": "code",
   "execution_count": 101,
   "metadata": {},
   "outputs": [
    {
     "data": {
      "text/plain": [
       "array([0.        , 0.09090909, 0.18181818, 0.27272727, 0.36363636,\n",
       "       0.45454545, 0.54545455, 0.63636364, 0.72727273, 0.81818182,\n",
       "       0.90909091, 1.        ])"
      ]
     },
     "execution_count": 101,
     "metadata": {},
     "output_type": "execute_result"
    }
   ],
   "source": [
    "# np.random.random(12)\n",
    "# n = np.arange(0,1,12 )\n",
    "n = np.linspace(0, 1, num=12)\n",
    "n"
   ]
  },
  {
   "cell_type": "markdown",
   "metadata": {},
   "source": [
    "### 8、创建一个长度为10的随机数组并排序"
   ]
  },
  {
   "cell_type": "code",
   "execution_count": 9,
   "metadata": {},
   "outputs": [
    {
     "data": {
      "text/plain": [
       "array([12, 15, 24, 27, 35, 38, 39, 40, 65, 81])"
      ]
     },
     "execution_count": 9,
     "metadata": {},
     "output_type": "execute_result"
    }
   ],
   "source": [
    "n = np.random.randint(0,100,size=10)\n",
    "n\n",
    "def bubble(n):\n",
    "    for i in range(len(n) -1):\n",
    "        for j in range(i+1, len(n)):\n",
    "            if n[i] > n[j]:\n",
    "                n[i], n[j] = n[j], n[i]\n",
    "bubble(n)\n",
    "n"
   ]
  },
  {
   "cell_type": "markdown",
   "metadata": {},
   "source": [
    "### 9、创建一个长度为10的随机数组并将最大值替换为0"
   ]
  },
  {
   "cell_type": "code",
   "execution_count": 11,
   "metadata": {},
   "outputs": [
    {
     "data": {
      "text/plain": [
       "array([34, 37,  8, 10, 36, 66, 26,  1, 43,  0])"
      ]
     },
     "execution_count": 11,
     "metadata": {},
     "output_type": "execute_result"
    }
   ],
   "source": [
    "n9 = np.random.randint(0,100,size=10)\n",
    "n9[n9.argmax()]=0\n",
    "n9"
   ]
  },
  {
   "cell_type": "markdown",
   "metadata": {},
   "source": [
    "### 10、如何根据第3列来对一个5*5矩阵排序？"
   ]
  },
  {
   "cell_type": "code",
   "execution_count": 66,
   "metadata": {},
   "outputs": [
    {
     "data": {
      "text/plain": [
       "array([[70, 99, 41, 44, 30],\n",
       "       [11, 88, 50, 48, 26],\n",
       "       [63, 10, 69, 21, 56],\n",
       "       [11, 48, 90, 68, 87],\n",
       "       [11, 66, 90,  1, 47]])"
      ]
     },
     "execution_count": 66,
     "metadata": {},
     "output_type": "execute_result"
    }
   ],
   "source": [
    "n10 = np.random.randint(0,100,size=(5,5))\n",
    "n10\n",
    "n10_1=np.argsort(n10[:,2])\n",
    "n10_1\n",
    "n10[n10_1]\n",
    "# n10[array([4, 0, 2, 3, 1], dtype=int64)]\n",
    "\n"
   ]
  },
  {
   "cell_type": "markdown",
   "metadata": {},
   "source": [
    "### 11、给定一个4维矩阵，如何得到最后两维的和？"
   ]
  },
  {
   "cell_type": "code",
   "execution_count": 67,
   "metadata": {},
   "outputs": [
    {
     "data": {
      "text/plain": [
       "array([[14, 10, 20],\n",
       "       [26, 13, 11]])"
      ]
     },
     "execution_count": 67,
     "metadata": {},
     "output_type": "execute_result"
    }
   ],
   "source": [
    "nd11=np.random.randint(0,10,size=(2,3,2,2))\n",
    "nd11.sum(axis=(-1,-2))"
   ]
  },
  {
   "cell_type": "markdown",
   "metadata": {},
   "source": [
    "### 12、给定数组[1, 2, 3, 4, 5]，如何得到在这个数组的每个元素之间插入3个0后的新数组？"
   ]
  },
  {
   "cell_type": "code",
   "execution_count": null,
   "metadata": {},
   "outputs": [],
   "source": [
    "n12 = [1,2,3,4,5]"
   ]
  },
  {
   "cell_type": "markdown",
   "metadata": {},
   "source": [
    "### 13、给定一个二维矩阵，如何交换其中两行的元素？"
   ]
  },
  {
   "cell_type": "code",
   "execution_count": 70,
   "metadata": {},
   "outputs": [
    {
     "data": {
      "text/plain": [
       "array([[ 5, 14, 14, 18],\n",
       "       [15,  4, 10, 19],\n",
       "       [ 6, 14, 15,  2]])"
      ]
     },
     "execution_count": 70,
     "metadata": {},
     "output_type": "execute_result"
    }
   ],
   "source": [
    "n13=np.random.randint(0,20,size=(3,4))\n",
    "n13[[1,2,0]]"
   ]
  },
  {
   "cell_type": "code",
   "execution_count": 69,
   "metadata": {},
   "outputs": [
    {
     "ename": "NameError",
     "evalue": "name 'n13' is not defined",
     "output_type": "error",
     "traceback": [
      "\u001b[1;31m---------------------------------------------------------------------------\u001b[0m",
      "\u001b[1;31mNameError\u001b[0m                                 Traceback (most recent call last)",
      "\u001b[1;32m<ipython-input-69-5843ec31b6a7>\u001b[0m in \u001b[0;36m<module>\u001b[1;34m()\u001b[0m\n\u001b[1;32m----> 1\u001b[1;33m \u001b[0mn13\u001b[0m\u001b[1;33m[\u001b[0m\u001b[1;33m[\u001b[0m\u001b[1;36m1\u001b[0m\u001b[1;33m,\u001b[0m\u001b[1;36m2\u001b[0m\u001b[1;33m,\u001b[0m\u001b[1;36m0\u001b[0m\u001b[1;33m]\u001b[0m\u001b[1;33m]\u001b[0m\u001b[1;33m\u001b[0m\u001b[0m\n\u001b[0m",
      "\u001b[1;31mNameError\u001b[0m: name 'n13' is not defined"
     ]
    }
   ],
   "source": [
    "n13[[1,2,0]]"
   ]
  },
  {
   "cell_type": "code",
   "execution_count": null,
   "metadata": {},
   "outputs": [],
   "source": []
  },
  {
   "cell_type": "code",
   "execution_count": null,
   "metadata": {},
   "outputs": [],
   "source": []
  }
 ],
 "metadata": {
  "kernelspec": {
   "display_name": "Python 3",
   "language": "python",
   "name": "python3"
  },
  "language_info": {
   "codemirror_mode": {
    "name": "ipython",
    "version": 3
   },
   "file_extension": ".py",
   "mimetype": "text/x-python",
   "name": "python",
   "nbconvert_exporter": "python",
   "pygments_lexer": "ipython3",
   "version": "3.6.5"
  }
 },
 "nbformat": 4,
 "nbformat_minor": 2
}
